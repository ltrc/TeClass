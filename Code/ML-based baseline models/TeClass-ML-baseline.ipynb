{
 "cells": [
  {
   "cell_type": "markdown",
   "id": "f338df70",
   "metadata": {
    "papermill": {
     "duration": 0.023245,
     "end_time": "2024-04-09T08:39:37.703298",
     "exception": false,
     "start_time": "2024-04-09T08:39:37.680053",
     "status": "completed"
    },
    "tags": []
   },
   "source": [
    "# Import Libraries"
   ]
  },
  {
   "cell_type": "code",
   "execution_count": 1,
   "id": "92c89304",
   "metadata": {
    "execution": {
     "iopub.execute_input": "2024-04-09T08:39:37.747208Z",
     "iopub.status.busy": "2024-04-09T08:39:37.746780Z",
     "iopub.status.idle": "2024-04-09T08:39:58.885054Z",
     "shell.execute_reply": "2024-04-09T08:39:58.883265Z"
    },
    "papermill": {
     "duration": 21.16335,
     "end_time": "2024-04-09T08:39:58.887875",
     "exception": false,
     "start_time": "2024-04-09T08:39:37.724525",
     "status": "completed"
    },
    "tags": []
   },
   "outputs": [],
   "source": [
    "import pandas as pd\n",
    "import re\n",
    "from tqdm import tqdm\n",
    "!pip install indic-nlp-library --q\n",
    "from indicnlp.tokenize.indic_tokenize import trivial_tokenize\n",
    "from indicnlp.tokenize.sentence_tokenize import sentence_split\n",
    "import os\n",
    "# cwd=os.getcwd()\n",
    "# os.chdir('/kaggle/input/telugu-tokenizer/')\n",
    "from TeluguTokenizer.tokenizer import *\n",
    "# os.chdir(cwd)"
   ]
  },
  {
   "cell_type": "code",
   "execution_count": 2,
   "id": "c7c25314",
   "metadata": {
    "execution": {
     "iopub.execute_input": "2024-04-09T08:39:58.935002Z",
     "iopub.status.busy": "2024-04-09T08:39:58.934243Z",
     "iopub.status.idle": "2024-04-09T08:39:58.940066Z",
     "shell.execute_reply": "2024-04-09T08:39:58.938912Z"
    },
    "papermill": {
     "duration": 0.032154,
     "end_time": "2024-04-09T08:39:58.942456",
     "exception": false,
     "start_time": "2024-04-09T08:39:58.910302",
     "status": "completed"
    },
    "tags": []
   },
   "outputs": [],
   "source": [
    "dataset_path='../../Dataset/'\n",
    "train_fp=dataset_path+'TeClass_training_data.csv'\n",
    "dev_fp=dataset_path+'TeClass_development_data.csv'\n",
    "test_fp=dataset_path+'TeClass_testing_data.csv'"
   ]
  },
  {
   "cell_type": "code",
   "execution_count": 3,
   "id": "afd90e11",
   "metadata": {
    "execution": {
     "iopub.execute_input": "2024-04-09T08:39:58.987231Z",
     "iopub.status.busy": "2024-04-09T08:39:58.986521Z",
     "iopub.status.idle": "2024-04-09T08:39:58.990986Z",
     "shell.execute_reply": "2024-04-09T08:39:58.990162Z"
    },
    "papermill": {
     "duration": 0.029576,
     "end_time": "2024-04-09T08:39:58.993319",
     "exception": false,
     "start_time": "2024-04-09T08:39:58.963743",
     "status": "completed"
    },
    "tags": []
   },
   "outputs": [],
   "source": [
    "def read_csv(fp):\n",
    "    df=pd.read_csv(fp)\n",
    "    return df"
   ]
  },
  {
   "cell_type": "code",
   "execution_count": 4,
   "id": "1eed909a",
   "metadata": {
    "execution": {
     "iopub.execute_input": "2024-04-09T08:39:59.037457Z",
     "iopub.status.busy": "2024-04-09T08:39:59.036763Z",
     "iopub.status.idle": "2024-04-09T08:40:00.846605Z",
     "shell.execute_reply": "2024-04-09T08:40:00.845483Z"
    },
    "papermill": {
     "duration": 1.835223,
     "end_time": "2024-04-09T08:40:00.849465",
     "exception": false,
     "start_time": "2024-04-09T08:39:59.014242",
     "status": "completed"
    },
    "tags": []
   },
   "outputs": [],
   "source": [
    "train_df=read_csv(train_fp)\n",
    "dev_df=read_csv(dev_fp)\n",
    "test_df=read_csv(test_fp)"
   ]
  },
  {
   "cell_type": "code",
   "execution_count": 5,
   "id": "e6feb457",
   "metadata": {
    "execution": {
     "iopub.execute_input": "2024-04-09T08:40:00.893254Z",
     "iopub.status.busy": "2024-04-09T08:40:00.892878Z",
     "iopub.status.idle": "2024-04-09T08:40:00.912794Z",
     "shell.execute_reply": "2024-04-09T08:40:00.911686Z"
    },
    "papermill": {
     "duration": 0.045041,
     "end_time": "2024-04-09T08:40:00.915485",
     "exception": false,
     "start_time": "2024-04-09T08:40:00.870444",
     "status": "completed"
    },
    "tags": []
   },
   "outputs": [
    {
     "data": {
      "text/html": [
       "<div>\n",
       "<style scoped>\n",
       "    .dataframe tbody tr th:only-of-type {\n",
       "        vertical-align: middle;\n",
       "    }\n",
       "\n",
       "    .dataframe tbody tr th {\n",
       "        vertical-align: top;\n",
       "    }\n",
       "\n",
       "    .dataframe thead th {\n",
       "        text-align: right;\n",
       "    }\n",
       "</style>\n",
       "<table border=\"1\" class=\"dataframe\">\n",
       "  <thead>\n",
       "    <tr style=\"text-align: right;\">\n",
       "      <th></th>\n",
       "      <th>id</th>\n",
       "      <th>url</th>\n",
       "      <th>article</th>\n",
       "      <th>headline</th>\n",
       "      <th>label</th>\n",
       "    </tr>\n",
       "  </thead>\n",
       "  <tbody>\n",
       "    <tr>\n",
       "      <th>0</th>\n",
       "      <td>training_1</td>\n",
       "      <td>https://www.manatelangana.news/one-person-watc...</td>\n",
       "      <td>హైదరాబాద్ : “రాజు గారి గది” సినిమా చూస్తూ ఓ ప్...</td>\n",
       "      <td>వ్యక్తి ప్రాణాలు తీసిన “రాజు గారి గది” సినిమా</td>\n",
       "      <td>MREL</td>\n",
       "    </tr>\n",
       "  </tbody>\n",
       "</table>\n",
       "</div>"
      ],
      "text/plain": [
       "           id                                                url  \\\n",
       "0  training_1  https://www.manatelangana.news/one-person-watc...   \n",
       "\n",
       "                                             article  \\\n",
       "0  హైదరాబాద్ : “రాజు గారి గది” సినిమా చూస్తూ ఓ ప్...   \n",
       "\n",
       "                                        headline label  \n",
       "0  వ్యక్తి ప్రాణాలు తీసిన “రాజు గారి గది” సినిమా  MREL  "
      ]
     },
     "execution_count": 5,
     "metadata": {},
     "output_type": "execute_result"
    }
   ],
   "source": [
    "train_df.head(1)"
   ]
  },
  {
   "cell_type": "markdown",
   "id": "0b2a060b",
   "metadata": {
    "papermill": {
     "duration": 0.020982,
     "end_time": "2024-04-09T08:40:00.957803",
     "exception": false,
     "start_time": "2024-04-09T08:40:00.936821",
     "status": "completed"
    },
    "tags": []
   },
   "source": [
    "# Extracting features"
   ]
  },
  {
   "cell_type": "markdown",
   "id": "639be598",
   "metadata": {
    "papermill": {
     "duration": 0.020789,
     "end_time": "2024-04-09T08:40:00.999806",
     "exception": false,
     "start_time": "2024-04-09T08:40:00.979017",
     "status": "completed"
    },
    "tags": []
   },
   "source": [
    "### Abstractivity (Novel N-Gram percentage)"
   ]
  },
  {
   "cell_type": "code",
   "execution_count": 6,
   "id": "988b9d2f",
   "metadata": {
    "execution": {
     "iopub.execute_input": "2024-04-09T08:40:01.044360Z",
     "iopub.status.busy": "2024-04-09T08:40:01.043884Z",
     "iopub.status.idle": "2024-04-09T08:40:01.055765Z",
     "shell.execute_reply": "2024-04-09T08:40:01.054496Z"
    },
    "papermill": {
     "duration": 0.03719,
     "end_time": "2024-04-09T08:40:01.058209",
     "exception": false,
     "start_time": "2024-04-09T08:40:01.021019",
     "status": "completed"
    },
    "tags": []
   },
   "outputs": [],
   "source": [
    "### Compute the set of Extractive Fragments F(A, S) (the set of shared sequences of tokens in A and S)\n",
    "def F(A, S, ng = 0):\n",
    "    '''\n",
    "        This method is responsible to compute the set of extractive fragments given the article and summary (Headline)\n",
    "\n",
    "        Input:\n",
    "            @A -> Article text\n",
    "            @S -> Summary text (Headline)\n",
    "            @ng -> abstractivity type [0, 1, 2, 3]\n",
    "        Output:\n",
    "            Set of matched sequences.\n",
    "    '''\n",
    "    F = []\n",
    "    i = j = 0\n",
    "    i_hat = 0\n",
    "\n",
    "    while i<len(S):\n",
    "\n",
    "        f = []\n",
    "        while j<len(A):\n",
    "\n",
    "            if S[i]==A[j]:\n",
    "\n",
    "                i_hat = i\n",
    "                j_hat = j\n",
    "\n",
    "                while i_hat<len(S) and j_hat<len(A) and S[i_hat] == A[j_hat]:\n",
    "                    i_hat = i_hat + 1\n",
    "                    j_hat = j_hat + 1\n",
    "\n",
    "                if (i_hat-i) > ng and len(f)<(i_hat - i):\n",
    "                    f = [S[n] for n in range(i, i_hat)]\n",
    "\n",
    "                j = j_hat\n",
    "\n",
    "            else:\n",
    "                j = j + 1\n",
    "\n",
    "        i = i + max(len(f),1)\n",
    "        j = 0\n",
    "        F.append(f)\n",
    "    \n",
    "    return set(tuple(e) for e in F)"
   ]
  },
  {
   "cell_type": "code",
   "execution_count": 7,
   "id": "e4219341",
   "metadata": {
    "execution": {
     "iopub.execute_input": "2024-04-09T08:40:01.103265Z",
     "iopub.status.busy": "2024-04-09T08:40:01.102122Z",
     "iopub.status.idle": "2024-04-09T08:40:01.113266Z",
     "shell.execute_reply": "2024-04-09T08:40:01.112128Z"
    },
    "papermill": {
     "duration": 0.036548,
     "end_time": "2024-04-09T08:40:01.115928",
     "exception": false,
     "start_time": "2024-04-09T08:40:01.079380",
     "status": "completed"
    },
    "tags": []
   },
   "outputs": [],
   "source": [
    "### Compare abstractivity score\n",
    "def get_abstractivity_score(article_content, summary_content, ng=0):\n",
    "    '''\n",
    "        This method is responsible to compute the abstractivity score using the Extractive Fragments F(A, S)\n",
    "\n",
    "        Input:\n",
    "            @article_content -> article text\n",
    "            @summary_content -> summary text (headline)\n",
    "        Output:\n",
    "            @abstractivity -> abstractivity0 score\n",
    "    '''\n",
    "    \n",
    "    ### Preprocess the article and summary with preprocess_data\n",
    "    summary_content = preprocess_data(summary_content)\n",
    "    article_content = preprocess_data(article_content)\n",
    "\n",
    "    ### Tokenization of article and summary with sentence tokenize\n",
    "    summary_sents = sentence_split(summary_content,lang='te')\n",
    "    article_sents = sentence_split(article_content,lang='te')\n",
    "\n",
    "    ### Tokenization of article and summary with word tokenize\n",
    "    summary_tokens_with_punct = word_tokenize(summary_sents)\n",
    "    article_tokens_with_punct = word_tokenize(article_sents)\n",
    "\n",
    "    ### Remove the punctuations from the tokens list and within the tokens\n",
    "    summary_tokens = remove_punctuation(summary_tokens_with_punct)\n",
    "    article_tokens = remove_punctuation(article_tokens_with_punct)\n",
    "    \n",
    "\n",
    "    # Calculating Abstractivity-0 score for article-summary pair\n",
    "    abstractivity = -1\n",
    "    matched_fragments = F(article_tokens, summary_tokens, ng)\n",
    "    # print(matched_fragments)\n",
    "    sumF_abs = 0\n",
    "    for f in matched_fragments:\n",
    "        sumF_abs += len(f)\n",
    "    total_stokens = len(summary_tokens)\n",
    "    if(total_stokens>0):\n",
    "        abstractivity = (round((100 - (sumF_abs/total_stokens)*100), 2))\n",
    "    \n",
    "    return abstractivity"
   ]
  },
  {
   "cell_type": "code",
   "execution_count": 8,
   "id": "64270979",
   "metadata": {
    "execution": {
     "iopub.execute_input": "2024-04-09T08:40:01.160735Z",
     "iopub.status.busy": "2024-04-09T08:40:01.160288Z",
     "iopub.status.idle": "2024-04-09T08:40:01.168717Z",
     "shell.execute_reply": "2024-04-09T08:40:01.167334Z"
    },
    "papermill": {
     "duration": 0.033883,
     "end_time": "2024-04-09T08:40:01.171459",
     "exception": false,
     "start_time": "2024-04-09T08:40:01.137576",
     "status": "completed"
    },
    "tags": []
   },
   "outputs": [],
   "source": [
    "def extract_features(df):\n",
    "    ng_values=[0,1]\n",
    "    n_punctuations=[]\n",
    "    n_specialsymbols=[]\n",
    "    for ng in ng_values:\n",
    "        temp=[]\n",
    "        for i in tqdm(range(len(df))):\n",
    "            a=df['article'].iloc[i]\n",
    "            h=df['headline'].iloc[i]\n",
    "            abst=get_abstractivity_score(a,h,ng)\n",
    "            temp.append(abst)\n",
    "\n",
    "        column_name='Novel_'+str(ng+1)+'_gram_percentage'\n",
    "        df[column_name]=temp\n",
    "        \n",
    "    return df"
   ]
  },
  {
   "cell_type": "code",
   "execution_count": 9,
   "id": "1daeaa35",
   "metadata": {
    "execution": {
     "iopub.execute_input": "2024-04-09T08:40:01.216480Z",
     "iopub.status.busy": "2024-04-09T08:40:01.216087Z",
     "iopub.status.idle": "2024-04-09T08:40:48.418985Z",
     "shell.execute_reply": "2024-04-09T08:40:48.417716Z"
    },
    "papermill": {
     "duration": 47.228804,
     "end_time": "2024-04-09T08:40:48.421935",
     "exception": false,
     "start_time": "2024-04-09T08:40:01.193131",
     "status": "completed"
    },
    "tags": []
   },
   "outputs": [
    {
     "name": "stderr",
     "output_type": "stream",
     "text": [
      "100%|██████████| 18324/18324 [00:23<00:00, 773.37it/s]\n",
      "100%|██████████| 18324/18324 [00:23<00:00, 780.33it/s]\n"
     ]
    }
   ],
   "source": [
    "train_df=extract_features(train_df)"
   ]
  },
  {
   "cell_type": "code",
   "execution_count": 10,
   "id": "f79fabed",
   "metadata": {
    "execution": {
     "iopub.execute_input": "2024-04-09T08:40:48.552069Z",
     "iopub.status.busy": "2024-04-09T08:40:48.551624Z",
     "iopub.status.idle": "2024-04-09T08:40:58.860945Z",
     "shell.execute_reply": "2024-04-09T08:40:58.859771Z"
    },
    "papermill": {
     "duration": 10.377871,
     "end_time": "2024-04-09T08:40:58.863749",
     "exception": false,
     "start_time": "2024-04-09T08:40:48.485878",
     "status": "completed"
    },
    "tags": []
   },
   "outputs": [
    {
     "name": "stderr",
     "output_type": "stream",
     "text": [
      "100%|██████████| 3927/3927 [00:05<00:00, 762.25it/s]\n",
      "100%|██████████| 3927/3927 [00:05<00:00, 764.01it/s]\n"
     ]
    }
   ],
   "source": [
    "dev_df=extract_features(dev_df)"
   ]
  },
  {
   "cell_type": "code",
   "execution_count": 11,
   "id": "c3bad3d0",
   "metadata": {
    "execution": {
     "iopub.execute_input": "2024-04-09T08:40:59.076987Z",
     "iopub.status.busy": "2024-04-09T08:40:59.076574Z",
     "iopub.status.idle": "2024-04-09T08:41:09.415548Z",
     "shell.execute_reply": "2024-04-09T08:41:09.414221Z"
    },
    "papermill": {
     "duration": 10.48087,
     "end_time": "2024-04-09T08:41:09.418206",
     "exception": false,
     "start_time": "2024-04-09T08:40:58.937336",
     "status": "completed"
    },
    "tags": []
   },
   "outputs": [
    {
     "name": "stderr",
     "output_type": "stream",
     "text": [
      "100%|██████████| 3927/3927 [00:05<00:00, 760.28it/s]\n",
      "100%|██████████| 3927/3927 [00:05<00:00, 761.42it/s]\n"
     ]
    }
   ],
   "source": [
    "test_df=extract_features(test_df)"
   ]
  },
  {
   "cell_type": "code",
   "execution_count": 12,
   "id": "e888aafa",
   "metadata": {
    "execution": {
     "iopub.execute_input": "2024-04-09T08:41:09.593783Z",
     "iopub.status.busy": "2024-04-09T08:41:09.593362Z",
     "iopub.status.idle": "2024-04-09T08:41:09.611453Z",
     "shell.execute_reply": "2024-04-09T08:41:09.609903Z"
    },
    "papermill": {
     "duration": 0.111121,
     "end_time": "2024-04-09T08:41:09.614215",
     "exception": false,
     "start_time": "2024-04-09T08:41:09.503094",
     "status": "completed"
    },
    "tags": []
   },
   "outputs": [
    {
     "data": {
      "text/html": [
       "<div>\n",
       "<style scoped>\n",
       "    .dataframe tbody tr th:only-of-type {\n",
       "        vertical-align: middle;\n",
       "    }\n",
       "\n",
       "    .dataframe tbody tr th {\n",
       "        vertical-align: top;\n",
       "    }\n",
       "\n",
       "    .dataframe thead th {\n",
       "        text-align: right;\n",
       "    }\n",
       "</style>\n",
       "<table border=\"1\" class=\"dataframe\">\n",
       "  <thead>\n",
       "    <tr style=\"text-align: right;\">\n",
       "      <th></th>\n",
       "      <th>id</th>\n",
       "      <th>url</th>\n",
       "      <th>article</th>\n",
       "      <th>headline</th>\n",
       "      <th>label</th>\n",
       "      <th>Novel_1_gram_percentage</th>\n",
       "      <th>Novel_2_gram_percentage</th>\n",
       "    </tr>\n",
       "  </thead>\n",
       "  <tbody>\n",
       "    <tr>\n",
       "      <th>0</th>\n",
       "      <td>development_1</td>\n",
       "      <td>https://10tv.in/movies/high-court-key-comments...</td>\n",
       "      <td>తెలుగు బుల్లితెరపై సంచలనం .. బిగ్ బాస్ .. ఈ షో...</td>\n",
       "      <td>బిగ్ బాస్ 3 షో పై హైకోర్టు కీలక వ్యాఖ్యలు</td>\n",
       "      <td>LREL</td>\n",
       "      <td>25.0</td>\n",
       "      <td>37.5</td>\n",
       "    </tr>\n",
       "  </tbody>\n",
       "</table>\n",
       "</div>"
      ],
      "text/plain": [
       "              id                                                url  \\\n",
       "0  development_1  https://10tv.in/movies/high-court-key-comments...   \n",
       "\n",
       "                                             article  \\\n",
       "0  తెలుగు బుల్లితెరపై సంచలనం .. బిగ్ బాస్ .. ఈ షో...   \n",
       "\n",
       "                                    headline label  Novel_1_gram_percentage  \\\n",
       "0  బిగ్ బాస్ 3 షో పై హైకోర్టు కీలక వ్యాఖ్యలు  LREL                     25.0   \n",
       "\n",
       "   Novel_2_gram_percentage  \n",
       "0                     37.5  "
      ]
     },
     "execution_count": 12,
     "metadata": {},
     "output_type": "execute_result"
    }
   ],
   "source": [
    "dev_df.head(1)"
   ]
  },
  {
   "cell_type": "markdown",
   "id": "0db54000",
   "metadata": {
    "papermill": {
     "duration": 0.085063,
     "end_time": "2024-04-09T08:41:09.789879",
     "exception": false,
     "start_time": "2024-04-09T08:41:09.704816",
     "status": "completed"
    },
    "tags": []
   },
   "source": [
    "### Lead-1 and Extractive Oracle Score"
   ]
  },
  {
   "cell_type": "code",
   "execution_count": 13,
   "id": "3dbe0779",
   "metadata": {
    "execution": {
     "iopub.execute_input": "2024-04-09T08:41:09.961878Z",
     "iopub.status.busy": "2024-04-09T08:41:09.961454Z",
     "iopub.status.idle": "2024-04-09T08:41:34.077427Z",
     "shell.execute_reply": "2024-04-09T08:41:34.075779Z"
    },
    "papermill": {
     "duration": 24.205997,
     "end_time": "2024-04-09T08:41:34.080552",
     "exception": false,
     "start_time": "2024-04-09T08:41:09.874555",
     "status": "completed"
    },
    "tags": []
   },
   "outputs": [],
   "source": [
    "!pip install absl-py nltk numpy six>=1.14 pythainlp pyonmttok jieba fugashi[unidic]\n",
    "os.chdir('../multilingual rouge/')\n",
    "from rouge_score import rouge_scorer\n",
    "os.chdir(cwd)\n",
    "scorer = rouge_scorer.RougeScorer(['rouge1', 'rouge2', 'rougeL'], use_stemmer=False, lang='te')"
   ]
  },
  {
   "cell_type": "code",
   "execution_count": 14,
   "id": "c5277539",
   "metadata": {
    "execution": {
     "iopub.execute_input": "2024-04-09T08:41:34.257783Z",
     "iopub.status.busy": "2024-04-09T08:41:34.257344Z",
     "iopub.status.idle": "2024-04-09T08:41:34.264086Z",
     "shell.execute_reply": "2024-04-09T08:41:34.262793Z"
    },
    "papermill": {
     "duration": 0.09702,
     "end_time": "2024-04-09T08:41:34.266851",
     "exception": false,
     "start_time": "2024-04-09T08:41:34.169831",
     "status": "completed"
    },
    "tags": []
   },
   "outputs": [],
   "source": [
    "def return_rouge_score(ref,hyp):\n",
    "    scores = scorer.score(ref, hyp) # ref and hyp must be in string format only\n",
    "    r1_f=scores['rouge1'][2] # index 2 corresponds to f-1 score, 0-precsion,1-recall\n",
    "    r2_f=scores['rouge2'][2]\n",
    "    rL_f=scores['rougeL'][2]\n",
    "    return r1_f,r2_f,rL_f"
   ]
  },
  {
   "cell_type": "code",
   "execution_count": 15,
   "id": "e3c466d2",
   "metadata": {
    "execution": {
     "iopub.execute_input": "2024-04-09T08:41:34.437166Z",
     "iopub.status.busy": "2024-04-09T08:41:34.436787Z",
     "iopub.status.idle": "2024-04-09T08:41:34.449671Z",
     "shell.execute_reply": "2024-04-09T08:41:34.448579Z"
    },
    "papermill": {
     "duration": 0.101396,
     "end_time": "2024-04-09T08:41:34.452421",
     "exception": false,
     "start_time": "2024-04-09T08:41:34.351025",
     "status": "completed"
    },
    "tags": []
   },
   "outputs": [],
   "source": [
    "### Compute Lead-1 and EXT-ORACLE R-L score\n",
    "def get_lead1_ext_score(df):\n",
    "    lead1_scores_rL=[]\n",
    "    ext_scores_rL=[]\n",
    "    for i in tqdm(range(len(df))):\n",
    "        article_content=df['article'].iloc[i]\n",
    "        summary_content=df['headline'].iloc[i]\n",
    "        ### Preprocess the article and summary with preprocess_data\n",
    "        summary_content = preprocess_data(summary_content)\n",
    "        article_content = preprocess_data(article_content)\n",
    "\n",
    "        ### Tokenization of article and summary with sentence tokenize\n",
    "        summary_sents = sentence_split(summary_content,lang='te')\n",
    "        article_sents = sentence_split(article_content,lang='te')\n",
    "        \n",
    "        def ext_oracle_score():\n",
    "            ref = summary_content\n",
    "            max_rL_sent_index=0\n",
    "            rL_max=0\n",
    "            for idx,sent in enumerate(article_sents):\n",
    "                hyp = sent\n",
    "                r1,r2,rL = return_rouge_score(ref,hyp)\n",
    "                if rL>rL_max:\n",
    "                    rL_max=rL\n",
    "                    max_rL_sent_index=idx\n",
    "            # take max R-L sent as hyp\n",
    "            try:\n",
    "                hyp=article_sents[max_rL_sent_index]\n",
    "            except:\n",
    "                hyp=''\n",
    "            r1,r2,rL = return_rouge_score(ref,hyp)\n",
    "            ext_scores_rL.append(rL*100)\n",
    "        ext_oracle_score()\n",
    "        \n",
    "        def lead_1_score():\n",
    "            ref = summary_content\n",
    "            try:\n",
    "                hyp = article_sents[0]\n",
    "            except:\n",
    "                hyp = ''\n",
    "                \n",
    "            r1,r2,rL = return_rouge_score(ref,hyp)\n",
    "            lead1_scores_rL.append(rL*100)\n",
    "        lead_1_score()\n",
    "    \n",
    "    df['Lead-1 Score']=lead1_scores_rL\n",
    "    df['EXT-ORACLE Score']=ext_scores_rL\n",
    "    return df"
   ]
  },
  {
   "cell_type": "code",
   "execution_count": 16,
   "id": "af05b7e5",
   "metadata": {
    "execution": {
     "iopub.execute_input": "2024-04-09T08:41:34.623311Z",
     "iopub.status.busy": "2024-04-09T08:41:34.622907Z",
     "iopub.status.idle": "2024-04-09T08:44:35.237372Z",
     "shell.execute_reply": "2024-04-09T08:44:35.235664Z"
    },
    "papermill": {
     "duration": 180.704134,
     "end_time": "2024-04-09T08:44:35.240569",
     "exception": false,
     "start_time": "2024-04-09T08:41:34.536435",
     "status": "completed"
    },
    "tags": []
   },
   "outputs": [
    {
     "name": "stderr",
     "output_type": "stream",
     "text": [
      "100%|██████████| 18324/18324 [03:00<00:00, 101.46it/s]\n"
     ]
    }
   ],
   "source": [
    "train_df=get_lead1_ext_score(train_df)"
   ]
  },
  {
   "cell_type": "code",
   "execution_count": 17,
   "id": "0e3d78cc",
   "metadata": {
    "execution": {
     "iopub.execute_input": "2024-04-09T08:44:35.718556Z",
     "iopub.status.busy": "2024-04-09T08:44:35.717503Z",
     "iopub.status.idle": "2024-04-09T08:45:14.303279Z",
     "shell.execute_reply": "2024-04-09T08:45:14.302422Z"
    },
    "papermill": {
     "duration": 38.829114,
     "end_time": "2024-04-09T08:45:14.305709",
     "exception": false,
     "start_time": "2024-04-09T08:44:35.476595",
     "status": "completed"
    },
    "tags": []
   },
   "outputs": [
    {
     "name": "stderr",
     "output_type": "stream",
     "text": [
      "100%|██████████| 3927/3927 [00:38<00:00, 101.80it/s]\n"
     ]
    }
   ],
   "source": [
    "dev_df=get_lead1_ext_score(dev_df)"
   ]
  },
  {
   "cell_type": "code",
   "execution_count": 18,
   "id": "24ca8cad",
   "metadata": {
    "execution": {
     "iopub.execute_input": "2024-04-09T08:45:14.848852Z",
     "iopub.status.busy": "2024-04-09T08:45:14.848393Z",
     "iopub.status.idle": "2024-04-09T08:45:53.190069Z",
     "shell.execute_reply": "2024-04-09T08:45:53.188719Z"
    },
    "papermill": {
     "duration": 38.616783,
     "end_time": "2024-04-09T08:45:53.193146",
     "exception": false,
     "start_time": "2024-04-09T08:45:14.576363",
     "status": "completed"
    },
    "tags": []
   },
   "outputs": [
    {
     "name": "stderr",
     "output_type": "stream",
     "text": [
      "100%|██████████| 3927/3927 [00:38<00:00, 102.46it/s]\n"
     ]
    }
   ],
   "source": [
    "test_df=get_lead1_ext_score(test_df)"
   ]
  },
  {
   "cell_type": "code",
   "execution_count": 19,
   "id": "596e6d25",
   "metadata": {
    "execution": {
     "iopub.execute_input": "2024-04-09T08:45:53.872277Z",
     "iopub.status.busy": "2024-04-09T08:45:53.871890Z",
     "iopub.status.idle": "2024-04-09T08:45:53.888346Z",
     "shell.execute_reply": "2024-04-09T08:45:53.887447Z"
    },
    "papermill": {
     "duration": 0.325864,
     "end_time": "2024-04-09T08:45:53.890589",
     "exception": false,
     "start_time": "2024-04-09T08:45:53.564725",
     "status": "completed"
    },
    "tags": []
   },
   "outputs": [
    {
     "data": {
      "text/html": [
       "<div>\n",
       "<style scoped>\n",
       "    .dataframe tbody tr th:only-of-type {\n",
       "        vertical-align: middle;\n",
       "    }\n",
       "\n",
       "    .dataframe tbody tr th {\n",
       "        vertical-align: top;\n",
       "    }\n",
       "\n",
       "    .dataframe thead th {\n",
       "        text-align: right;\n",
       "    }\n",
       "</style>\n",
       "<table border=\"1\" class=\"dataframe\">\n",
       "  <thead>\n",
       "    <tr style=\"text-align: right;\">\n",
       "      <th></th>\n",
       "      <th>id</th>\n",
       "      <th>url</th>\n",
       "      <th>article</th>\n",
       "      <th>headline</th>\n",
       "      <th>label</th>\n",
       "      <th>Novel_1_gram_percentage</th>\n",
       "      <th>Novel_2_gram_percentage</th>\n",
       "      <th>Lead-1 Score</th>\n",
       "      <th>EXT-ORACLE Score</th>\n",
       "    </tr>\n",
       "  </thead>\n",
       "  <tbody>\n",
       "    <tr>\n",
       "      <th>0</th>\n",
       "      <td>training_1</td>\n",
       "      <td>https://www.manatelangana.news/one-person-watc...</td>\n",
       "      <td>హైదరాబాద్ : “రాజు గారి గది” సినిమా చూస్తూ ఓ ప్...</td>\n",
       "      <td>వ్యక్తి ప్రాణాలు తీసిన “రాజు గారి గది” సినిమా</td>\n",
       "      <td>MREL</td>\n",
       "      <td>42.86</td>\n",
       "      <td>42.86</td>\n",
       "      <td>50.0</td>\n",
       "      <td>50.0</td>\n",
       "    </tr>\n",
       "  </tbody>\n",
       "</table>\n",
       "</div>"
      ],
      "text/plain": [
       "           id                                                url  \\\n",
       "0  training_1  https://www.manatelangana.news/one-person-watc...   \n",
       "\n",
       "                                             article  \\\n",
       "0  హైదరాబాద్ : “రాజు గారి గది” సినిమా చూస్తూ ఓ ప్...   \n",
       "\n",
       "                                        headline label  \\\n",
       "0  వ్యక్తి ప్రాణాలు తీసిన “రాజు గారి గది” సినిమా  MREL   \n",
       "\n",
       "   Novel_1_gram_percentage  Novel_2_gram_percentage  Lead-1 Score  \\\n",
       "0                    42.86                    42.86          50.0   \n",
       "\n",
       "   EXT-ORACLE Score  \n",
       "0              50.0  "
      ]
     },
     "execution_count": 19,
     "metadata": {},
     "output_type": "execute_result"
    }
   ],
   "source": [
    "train_df.head(1)"
   ]
  },
  {
   "cell_type": "markdown",
   "id": "1f08000e",
   "metadata": {
    "papermill": {
     "duration": 0.302231,
     "end_time": "2024-04-09T08:45:54.500317",
     "exception": false,
     "start_time": "2024-04-09T08:45:54.198086",
     "status": "completed"
    },
    "tags": []
   },
   "source": [
    "### TF-IDF Representation"
   ]
  },
  {
   "cell_type": "code",
   "execution_count": 20,
   "id": "2d99f978",
   "metadata": {
    "execution": {
     "iopub.execute_input": "2024-04-09T08:45:55.111766Z",
     "iopub.status.busy": "2024-04-09T08:45:55.111319Z",
     "iopub.status.idle": "2024-04-09T08:46:04.943622Z",
     "shell.execute_reply": "2024-04-09T08:46:04.942651Z"
    },
    "papermill": {
     "duration": 10.144238,
     "end_time": "2024-04-09T08:46:04.946194",
     "exception": false,
     "start_time": "2024-04-09T08:45:54.801956",
     "status": "completed"
    },
    "tags": []
   },
   "outputs": [
    {
     "data": {
      "application/vnd.jupyter.widget-view+json": {
       "model_id": "4c4146a7637b4d3db0d1333aa5120085",
       "version_major": 2,
       "version_minor": 0
      },
      "text/plain": [
       "tokenizer_config.json:   0%|          | 0.00/49.0 [00:00<?, ?B/s]"
      ]
     },
     "metadata": {},
     "output_type": "display_data"
    },
    {
     "data": {
      "application/vnd.jupyter.widget-view+json": {
       "model_id": "70d36718996044f1b74387319b358cca",
       "version_major": 2,
       "version_minor": 0
      },
      "text/plain": [
       "vocab.txt:   0%|          | 0.00/996k [00:00<?, ?B/s]"
      ]
     },
     "metadata": {},
     "output_type": "display_data"
    },
    {
     "data": {
      "application/vnd.jupyter.widget-view+json": {
       "model_id": "74a436435c7c49e2b868bfcb07ba7234",
       "version_major": 2,
       "version_minor": 0
      },
      "text/plain": [
       "tokenizer.json:   0%|          | 0.00/1.96M [00:00<?, ?B/s]"
      ]
     },
     "metadata": {},
     "output_type": "display_data"
    },
    {
     "data": {
      "application/vnd.jupyter.widget-view+json": {
       "model_id": "75bbb75472aa42b088736faff38ddc16",
       "version_major": 2,
       "version_minor": 0
      },
      "text/plain": [
       "config.json:   0%|          | 0.00/625 [00:00<?, ?B/s]"
      ]
     },
     "metadata": {},
     "output_type": "display_data"
    }
   ],
   "source": [
    "# Using sub-word tokenization (BertTokenizer) to overcome the problem of out-of-vocabulary words\n",
    "from transformers import BertTokenizer\n",
    "# Load the BERT tokenizer\n",
    "tokenizer = BertTokenizer.from_pretrained(\"bert-base-multilingual-cased\")\n",
    "\n",
    "# Define a custom tokenizer function that uses BERT tokenizer\n",
    "def custom_tokenizer(text):\n",
    "    # Tokenize the text using BERT tokenizer\n",
    "    tokens = tokenizer.tokenize(text)\n",
    "    return tokens"
   ]
  },
  {
   "cell_type": "code",
   "execution_count": 21,
   "id": "d8af9709",
   "metadata": {
    "execution": {
     "iopub.execute_input": "2024-04-09T08:46:05.592189Z",
     "iopub.status.busy": "2024-04-09T08:46:05.590997Z",
     "iopub.status.idle": "2024-04-09T08:46:05.601081Z",
     "shell.execute_reply": "2024-04-09T08:46:05.599981Z"
    },
    "papermill": {
     "duration": 0.349689,
     "end_time": "2024-04-09T08:46:05.604142",
     "exception": false,
     "start_time": "2024-04-09T08:46:05.254453",
     "status": "completed"
    },
    "tags": []
   },
   "outputs": [],
   "source": [
    "articles_list=list(train_df['article'].values)\n",
    "titles_list=list(train_df['headline'].values)\n",
    "corpus=articles_list+titles_list\n",
    "\n",
    "from sklearn.feature_extraction.text import TfidfVectorizer\n",
    "# Create a TfidfVectorizer instance with your custom tokenizer\n",
    "tfidf_vectorizer = TfidfVectorizer(tokenizer=custom_tokenizer)"
   ]
  },
  {
   "cell_type": "code",
   "execution_count": 22,
   "id": "83c78951",
   "metadata": {
    "execution": {
     "iopub.execute_input": "2024-04-09T08:46:06.257740Z",
     "iopub.status.busy": "2024-04-09T08:46:06.256896Z",
     "iopub.status.idle": "2024-04-09T08:48:22.519763Z",
     "shell.execute_reply": "2024-04-09T08:48:22.517988Z"
    },
    "papermill": {
     "duration": 136.574692,
     "end_time": "2024-04-09T08:48:22.522839",
     "exception": false,
     "start_time": "2024-04-09T08:46:05.948147",
     "status": "completed"
    },
    "tags": []
   },
   "outputs": [
    {
     "name": "stderr",
     "output_type": "stream",
     "text": [
      "/opt/conda/lib/python3.10/site-packages/sklearn/feature_extraction/text.py:528: UserWarning: The parameter 'token_pattern' will not be used since 'tokenizer' is not None'\n",
      "  warnings.warn(\n"
     ]
    }
   ],
   "source": [
    "# Fit the corpus\n",
    "tf_idf_matrix = tfidf_vectorizer.fit(corpus)"
   ]
  },
  {
   "cell_type": "code",
   "execution_count": 23,
   "id": "01de31aa",
   "metadata": {
    "execution": {
     "iopub.execute_input": "2024-04-09T08:48:23.191856Z",
     "iopub.status.busy": "2024-04-09T08:48:23.191412Z",
     "iopub.status.idle": "2024-04-09T08:48:23.199219Z",
     "shell.execute_reply": "2024-04-09T08:48:23.198170Z"
    },
    "papermill": {
     "duration": 0.311161,
     "end_time": "2024-04-09T08:48:23.201549",
     "exception": false,
     "start_time": "2024-04-09T08:48:22.890388",
     "status": "completed"
    },
    "tags": []
   },
   "outputs": [
    {
     "name": "stdout",
     "output_type": "stream",
     "text": [
      "Vocabulary size: 2945\n"
     ]
    }
   ],
   "source": [
    "# # Get feature names (words in the vocabulary)\n",
    "feature_names = tf_idf_matrix.get_feature_names_out()\n",
    "print(\"Vocabulary size:\",len(feature_names))"
   ]
  },
  {
   "cell_type": "code",
   "execution_count": 24,
   "id": "67db7aa6",
   "metadata": {
    "execution": {
     "iopub.execute_input": "2024-04-09T08:48:23.810544Z",
     "iopub.status.busy": "2024-04-09T08:48:23.809738Z",
     "iopub.status.idle": "2024-04-09T08:51:40.512273Z",
     "shell.execute_reply": "2024-04-09T08:51:40.510949Z"
    },
    "papermill": {
     "duration": 197.007387,
     "end_time": "2024-04-09T08:51:40.515661",
     "exception": false,
     "start_time": "2024-04-09T08:48:23.508274",
     "status": "completed"
    },
    "tags": []
   },
   "outputs": [],
   "source": [
    "# represent article, headline into vectors using TF-IDF\n",
    "train_article_emb=tf_idf_matrix.transform(list(train_df['article'].values)).toarray()\n",
    "train_title_emb=tf_idf_matrix.transform(list(train_df['headline'].values)).toarray()\n",
    "\n",
    "dev_article_emb=tf_idf_matrix.transform(list(dev_df['article'].values)).toarray()\n",
    "dev_title_emb=tf_idf_matrix.transform(list(dev_df['headline'].values)).toarray()\n",
    "\n",
    "test_article_emb=tf_idf_matrix.transform(list(test_df['article'].values)).toarray()\n",
    "test_title_emb=tf_idf_matrix.transform(list(test_df['headline'].values)).toarray()"
   ]
  },
  {
   "cell_type": "markdown",
   "id": "36a1805d",
   "metadata": {
    "papermill": {
     "duration": 0.301192,
     "end_time": "2024-04-09T08:51:41.119111",
     "exception": false,
     "start_time": "2024-04-09T08:51:40.817919",
     "status": "completed"
    },
    "tags": []
   },
   "source": [
    "### Cosine Similirity between Article and Headline vector representations"
   ]
  },
  {
   "cell_type": "code",
   "execution_count": 25,
   "id": "40146e65",
   "metadata": {
    "execution": {
     "iopub.execute_input": "2024-04-09T08:51:41.730513Z",
     "iopub.status.busy": "2024-04-09T08:51:41.730049Z",
     "iopub.status.idle": "2024-04-09T08:51:41.736172Z",
     "shell.execute_reply": "2024-04-09T08:51:41.734977Z"
    },
    "papermill": {
     "duration": 0.314929,
     "end_time": "2024-04-09T08:51:41.738524",
     "exception": false,
     "start_time": "2024-04-09T08:51:41.423595",
     "status": "completed"
    },
    "tags": []
   },
   "outputs": [],
   "source": [
    "import numpy as np\n",
    "from numpy import dot\n",
    "from numpy.linalg import norm\n",
    "def cosine_sim(a,b):\n",
    "    cos_sim = dot(a, b)/(norm(a)*norm(b))\n",
    "    #return np.array([cos_sim])\n",
    "    return cos_sim"
   ]
  },
  {
   "cell_type": "code",
   "execution_count": 26,
   "id": "fbab1b2b",
   "metadata": {
    "execution": {
     "iopub.execute_input": "2024-04-09T08:51:42.356936Z",
     "iopub.status.busy": "2024-04-09T08:51:42.356390Z",
     "iopub.status.idle": "2024-04-09T08:51:42.365232Z",
     "shell.execute_reply": "2024-04-09T08:51:42.363692Z"
    },
    "papermill": {
     "duration": 0.325771,
     "end_time": "2024-04-09T08:51:42.369139",
     "exception": false,
     "start_time": "2024-04-09T08:51:42.043368",
     "status": "completed"
    },
    "tags": []
   },
   "outputs": [],
   "source": [
    "def get_cosine_sim(article_emb, headline_emb):\n",
    "    cos_sim=[]\n",
    "    for i in tqdm(range(len(article_emb))):\n",
    "        a=article_emb[i]\n",
    "        b=headline_emb[i]\n",
    "        cos_sim.append(cosine_sim(a,b))\n",
    "        \n",
    "    return cos_sim"
   ]
  },
  {
   "cell_type": "code",
   "execution_count": 27,
   "id": "2aa3e681",
   "metadata": {
    "execution": {
     "iopub.execute_input": "2024-04-09T08:51:43.052783Z",
     "iopub.status.busy": "2024-04-09T08:51:43.051995Z",
     "iopub.status.idle": "2024-04-09T08:51:43.813423Z",
     "shell.execute_reply": "2024-04-09T08:51:43.812060Z"
    },
    "papermill": {
     "duration": 1.065117,
     "end_time": "2024-04-09T08:51:43.815891",
     "exception": false,
     "start_time": "2024-04-09T08:51:42.750774",
     "status": "completed"
    },
    "tags": []
   },
   "outputs": [
    {
     "name": "stderr",
     "output_type": "stream",
     "text": [
      "100%|██████████| 18324/18324 [00:00<00:00, 35168.59it/s]\n",
      "100%|██████████| 3927/3927 [00:00<00:00, 35399.50it/s]\n",
      "100%|██████████| 3927/3927 [00:00<00:00, 34996.13it/s]\n"
     ]
    }
   ],
   "source": [
    "train_cos_sim=get_cosine_sim(train_article_emb,train_title_emb)\n",
    "dev_cos_sim=get_cosine_sim(dev_article_emb,dev_title_emb)\n",
    "test_cos_sim=get_cosine_sim(test_article_emb,test_title_emb)"
   ]
  },
  {
   "cell_type": "code",
   "execution_count": 28,
   "id": "827ca692",
   "metadata": {
    "execution": {
     "iopub.execute_input": "2024-04-09T08:51:44.429968Z",
     "iopub.status.busy": "2024-04-09T08:51:44.429527Z",
     "iopub.status.idle": "2024-04-09T08:51:44.446443Z",
     "shell.execute_reply": "2024-04-09T08:51:44.445094Z"
    },
    "papermill": {
     "duration": 0.327849,
     "end_time": "2024-04-09T08:51:44.448989",
     "exception": false,
     "start_time": "2024-04-09T08:51:44.121140",
     "status": "completed"
    },
    "tags": []
   },
   "outputs": [],
   "source": [
    "train_df['Cosine_Similarity']=train_cos_sim\n",
    "dev_df['Cosine_Similarity']=dev_cos_sim\n",
    "test_df['Cosine_Similarity']=test_cos_sim"
   ]
  },
  {
   "cell_type": "code",
   "execution_count": 29,
   "id": "db9d7aaf",
   "metadata": {
    "execution": {
     "iopub.execute_input": "2024-04-09T08:51:45.053959Z",
     "iopub.status.busy": "2024-04-09T08:51:45.053540Z",
     "iopub.status.idle": "2024-04-09T08:51:45.068865Z",
     "shell.execute_reply": "2024-04-09T08:51:45.068018Z"
    },
    "papermill": {
     "duration": 0.321007,
     "end_time": "2024-04-09T08:51:45.071381",
     "exception": false,
     "start_time": "2024-04-09T08:51:44.750374",
     "status": "completed"
    },
    "tags": []
   },
   "outputs": [
    {
     "data": {
      "text/html": [
       "<div>\n",
       "<style scoped>\n",
       "    .dataframe tbody tr th:only-of-type {\n",
       "        vertical-align: middle;\n",
       "    }\n",
       "\n",
       "    .dataframe tbody tr th {\n",
       "        vertical-align: top;\n",
       "    }\n",
       "\n",
       "    .dataframe thead th {\n",
       "        text-align: right;\n",
       "    }\n",
       "</style>\n",
       "<table border=\"1\" class=\"dataframe\">\n",
       "  <thead>\n",
       "    <tr style=\"text-align: right;\">\n",
       "      <th></th>\n",
       "      <th>id</th>\n",
       "      <th>url</th>\n",
       "      <th>article</th>\n",
       "      <th>headline</th>\n",
       "      <th>label</th>\n",
       "      <th>Novel_1_gram_percentage</th>\n",
       "      <th>Novel_2_gram_percentage</th>\n",
       "      <th>Lead-1 Score</th>\n",
       "      <th>EXT-ORACLE Score</th>\n",
       "      <th>Cosine_Similarity</th>\n",
       "    </tr>\n",
       "  </thead>\n",
       "  <tbody>\n",
       "    <tr>\n",
       "      <th>0</th>\n",
       "      <td>training_1</td>\n",
       "      <td>https://www.manatelangana.news/one-person-watc...</td>\n",
       "      <td>హైదరాబాద్ : “రాజు గారి గది” సినిమా చూస్తూ ఓ ప్...</td>\n",
       "      <td>వ్యక్తి ప్రాణాలు తీసిన “రాజు గారి గది” సినిమా</td>\n",
       "      <td>MREL</td>\n",
       "      <td>42.86</td>\n",
       "      <td>42.86</td>\n",
       "      <td>50.0</td>\n",
       "      <td>50.0</td>\n",
       "      <td>0.317002</td>\n",
       "    </tr>\n",
       "  </tbody>\n",
       "</table>\n",
       "</div>"
      ],
      "text/plain": [
       "           id                                                url  \\\n",
       "0  training_1  https://www.manatelangana.news/one-person-watc...   \n",
       "\n",
       "                                             article  \\\n",
       "0  హైదరాబాద్ : “రాజు గారి గది” సినిమా చూస్తూ ఓ ప్...   \n",
       "\n",
       "                                        headline label  \\\n",
       "0  వ్యక్తి ప్రాణాలు తీసిన “రాజు గారి గది” సినిమా  MREL   \n",
       "\n",
       "   Novel_1_gram_percentage  Novel_2_gram_percentage  Lead-1 Score  \\\n",
       "0                    42.86                    42.86          50.0   \n",
       "\n",
       "   EXT-ORACLE Score  Cosine_Similarity  \n",
       "0              50.0           0.317002  "
      ]
     },
     "execution_count": 29,
     "metadata": {},
     "output_type": "execute_result"
    }
   ],
   "source": [
    "train_df.head(1)"
   ]
  },
  {
   "cell_type": "markdown",
   "id": "a28be2fa",
   "metadata": {
    "papermill": {
     "duration": 0.303995,
     "end_time": "2024-04-09T08:51:45.681965",
     "exception": false,
     "start_time": "2024-04-09T08:51:45.377970",
     "status": "completed"
    },
    "tags": []
   },
   "source": [
    "# Baseline Models Implementation"
   ]
  },
  {
   "cell_type": "markdown",
   "id": "4b283844",
   "metadata": {
    "papermill": {
     "duration": 0.312086,
     "end_time": "2024-04-09T08:51:46.300301",
     "exception": false,
     "start_time": "2024-04-09T08:51:45.988215",
     "status": "completed"
    },
    "tags": []
   },
   "source": [
    "### Get Required Features to concat with TF-IDF encoding"
   ]
  },
  {
   "cell_type": "code",
   "execution_count": 30,
   "id": "0cd57c6f",
   "metadata": {
    "execution": {
     "iopub.execute_input": "2024-04-09T08:51:46.975947Z",
     "iopub.status.busy": "2024-04-09T08:51:46.975161Z",
     "iopub.status.idle": "2024-04-09T08:51:46.979967Z",
     "shell.execute_reply": "2024-04-09T08:51:46.978900Z"
    },
    "papermill": {
     "duration": 0.312268,
     "end_time": "2024-04-09T08:51:46.982320",
     "exception": false,
     "start_time": "2024-04-09T08:51:46.670052",
     "status": "completed"
    },
    "tags": []
   },
   "outputs": [],
   "source": [
    "include_features=True\n",
    "req_features=['Cosine_Similarity','Novel_1_gram_percentage','Novel_2_gram_percentage','Lead-1 Score','EXT-ORACLE Score']"
   ]
  },
  {
   "cell_type": "code",
   "execution_count": 31,
   "id": "9e851efd",
   "metadata": {
    "execution": {
     "iopub.execute_input": "2024-04-09T08:51:47.595905Z",
     "iopub.status.busy": "2024-04-09T08:51:47.595473Z",
     "iopub.status.idle": "2024-04-09T08:51:47.602100Z",
     "shell.execute_reply": "2024-04-09T08:51:47.601125Z"
    },
    "papermill": {
     "duration": 0.314455,
     "end_time": "2024-04-09T08:51:47.604645",
     "exception": false,
     "start_time": "2024-04-09T08:51:47.290190",
     "status": "completed"
    },
    "tags": []
   },
   "outputs": [],
   "source": [
    "def return_features(data):\n",
    "    features=[]\n",
    "    for i in range(len(data)):\n",
    "        temp=[]\n",
    "        for feature in req_features:\n",
    "            if feature!='Cosine_Similarity':\n",
    "                temp.append(data[feature].iloc[i]/100) # since the features values are in the range 0-100, scaling them to 0-1\n",
    "            else:\n",
    "                temp.append(data[feature].iloc[i])\n",
    "        features.append(np.array(temp))\n",
    "    return features"
   ]
  },
  {
   "cell_type": "code",
   "execution_count": 32,
   "id": "40b23f12",
   "metadata": {
    "execution": {
     "iopub.execute_input": "2024-04-09T08:51:48.214869Z",
     "iopub.status.busy": "2024-04-09T08:51:48.214123Z",
     "iopub.status.idle": "2024-04-09T08:51:50.650908Z",
     "shell.execute_reply": "2024-04-09T08:51:50.649706Z"
    },
    "papermill": {
     "duration": 2.744918,
     "end_time": "2024-04-09T08:51:50.653704",
     "exception": false,
     "start_time": "2024-04-09T08:51:47.908786",
     "status": "completed"
    },
    "tags": []
   },
   "outputs": [],
   "source": [
    "train_features=return_features(train_df)\n",
    "dev_features=return_features(dev_df)\n",
    "test_features=return_features(test_df)"
   ]
  },
  {
   "cell_type": "markdown",
   "id": "ca6949e2",
   "metadata": {
    "papermill": {
     "duration": 0.323798,
     "end_time": "2024-04-09T08:51:51.296034",
     "exception": false,
     "start_time": "2024-04-09T08:51:50.972236",
     "status": "completed"
    },
    "tags": []
   },
   "source": [
    "### Concat Required Features with TF-IDF encoding"
   ]
  },
  {
   "cell_type": "code",
   "execution_count": 33,
   "id": "50f9b569",
   "metadata": {
    "execution": {
     "iopub.execute_input": "2024-04-09T08:51:51.999400Z",
     "iopub.status.busy": "2024-04-09T08:51:51.998315Z",
     "iopub.status.idle": "2024-04-09T08:51:52.661239Z",
     "shell.execute_reply": "2024-04-09T08:51:52.659987Z"
    },
    "papermill": {
     "duration": 1.048717,
     "end_time": "2024-04-09T08:51:52.663811",
     "exception": false,
     "start_time": "2024-04-09T08:51:51.615094",
     "status": "completed"
    },
    "tags": []
   },
   "outputs": [
    {
     "name": "stdout",
     "output_type": "stream",
     "text": [
      "Using Features:  ['Cosine_Similarity', 'Novel_1_gram_percentage', 'Novel_2_gram_percentage', 'Lead-1 Score', 'EXT-ORACLE Score']\n"
     ]
    }
   ],
   "source": [
    "if include_features:\n",
    "    print('Using Features: ',req_features)\n",
    "    X_train=np.concatenate((train_article_emb,train_features,train_title_emb),axis=1)\n",
    "    X_dev=np.concatenate((dev_article_emb,dev_features,dev_title_emb),axis=1)\n",
    "    X_test=np.concatenate((test_article_emb,test_features,test_title_emb),axis=1)\n",
    "    #print(X_train.shape)\n",
    "else:\n",
    "    print('Concatenating Article and Headline Embedding (No additional features)')\n",
    "    X_train=np.concatenate((train_article_emb,train_title_emb),axis=1)\n",
    "    X_dev=np.concatenate((dev_article_emb,dev_title_emb),axis=1)\n",
    "    X_test=np.concatenate((test_article_emb,test_title_emb),axis=1)"
   ]
  },
  {
   "cell_type": "code",
   "execution_count": 34,
   "id": "692fdce0",
   "metadata": {
    "execution": {
     "iopub.execute_input": "2024-04-09T08:51:53.279837Z",
     "iopub.status.busy": "2024-04-09T08:51:53.279089Z",
     "iopub.status.idle": "2024-04-09T08:51:53.284779Z",
     "shell.execute_reply": "2024-04-09T08:51:53.283470Z"
    },
    "papermill": {
     "duration": 0.316972,
     "end_time": "2024-04-09T08:51:53.287084",
     "exception": false,
     "start_time": "2024-04-09T08:51:52.970112",
     "status": "completed"
    },
    "tags": []
   },
   "outputs": [
    {
     "name": "stdout",
     "output_type": "stream",
     "text": [
      "Train Shape:(18324, 5895), Dev Shape:(3927, 5895), Test Shape:(3927, 5895)\n"
     ]
    }
   ],
   "source": [
    "print(\"Train Shape:{}, Dev Shape:{}, Test Shape:{}\".format(X_train.shape,X_dev.shape,X_test.shape))"
   ]
  },
  {
   "cell_type": "markdown",
   "id": "19287e1e",
   "metadata": {
    "papermill": {
     "duration": 0.302861,
     "end_time": "2024-04-09T08:51:53.893783",
     "exception": false,
     "start_time": "2024-04-09T08:51:53.590922",
     "status": "completed"
    },
    "tags": []
   },
   "source": [
    "### Converting Output Labels to Categorical"
   ]
  },
  {
   "cell_type": "code",
   "execution_count": 35,
   "id": "312d8fec",
   "metadata": {
    "execution": {
     "iopub.execute_input": "2024-04-09T08:51:54.503243Z",
     "iopub.status.busy": "2024-04-09T08:51:54.502810Z",
     "iopub.status.idle": "2024-04-09T08:52:07.659996Z",
     "shell.execute_reply": "2024-04-09T08:52:07.658643Z"
    },
    "papermill": {
     "duration": 13.46676,
     "end_time": "2024-04-09T08:52:07.662803",
     "exception": false,
     "start_time": "2024-04-09T08:51:54.196043",
     "status": "completed"
    },
    "tags": []
   },
   "outputs": [
    {
     "name": "stderr",
     "output_type": "stream",
     "text": [
      "2024-04-09 08:51:56.862070: E external/local_xla/xla/stream_executor/cuda/cuda_dnn.cc:9261] Unable to register cuDNN factory: Attempting to register factory for plugin cuDNN when one has already been registered\n",
      "2024-04-09 08:51:56.862225: E external/local_xla/xla/stream_executor/cuda/cuda_fft.cc:607] Unable to register cuFFT factory: Attempting to register factory for plugin cuFFT when one has already been registered\n",
      "2024-04-09 08:51:57.040174: E external/local_xla/xla/stream_executor/cuda/cuda_blas.cc:1515] Unable to register cuBLAS factory: Attempting to register factory for plugin cuBLAS when one has already been registered\n"
     ]
    }
   ],
   "source": [
    "import numpy as np\n",
    "import tensorflow as tf\n",
    "from sklearn.preprocessing import LabelEncoder\n",
    "\n",
    "label_encoder = LabelEncoder()\n",
    "\n",
    "# Convert the labels in train_df\n",
    "train_labels = train_df['label'].values\n",
    "train_labels_encoded = label_encoder.fit_transform(train_labels)\n",
    "\n",
    "# Convert the labels in val_df\n",
    "dev_labels = dev_df['label'].values\n",
    "dev_labels_encoded = label_encoder.transform(dev_labels)\n",
    "\n",
    "# Convert the labels in test_df\n",
    "test_labels = test_df['label'].values\n",
    "test_labels_encoded = label_encoder.transform(test_labels)\n",
    "\n",
    "# Convert the encoded labels to one-hot vectors\n",
    "y_train_encoded = tf.keras.utils.to_categorical(train_labels_encoded)\n",
    "y_dev_encoded = tf.keras.utils.to_categorical(dev_labels_encoded)\n",
    "y_test_encoded = tf.keras.utils.to_categorical(test_labels_encoded)"
   ]
  },
  {
   "cell_type": "code",
   "execution_count": 36,
   "id": "1204c28a",
   "metadata": {
    "execution": {
     "iopub.execute_input": "2024-04-09T08:52:08.289565Z",
     "iopub.status.busy": "2024-04-09T08:52:08.288757Z",
     "iopub.status.idle": "2024-04-09T08:52:08.294489Z",
     "shell.execute_reply": "2024-04-09T08:52:08.293695Z"
    },
    "papermill": {
     "duration": 0.315742,
     "end_time": "2024-04-09T08:52:08.297520",
     "exception": false,
     "start_time": "2024-04-09T08:52:07.981778",
     "status": "completed"
    },
    "tags": []
   },
   "outputs": [
    {
     "name": "stdout",
     "output_type": "stream",
     "text": [
      "['HREL' 'LREL' 'MREL']\n"
     ]
    }
   ],
   "source": [
    "encoded_classes = label_encoder.classes_\n",
    "print(encoded_classes)"
   ]
  },
  {
   "cell_type": "code",
   "execution_count": 37,
   "id": "72dfebd6",
   "metadata": {
    "execution": {
     "iopub.execute_input": "2024-04-09T08:52:08.908200Z",
     "iopub.status.busy": "2024-04-09T08:52:08.906963Z",
     "iopub.status.idle": "2024-04-09T08:52:08.911730Z",
     "shell.execute_reply": "2024-04-09T08:52:08.910896Z"
    },
    "papermill": {
     "duration": 0.312404,
     "end_time": "2024-04-09T08:52:08.914019",
     "exception": false,
     "start_time": "2024-04-09T08:52:08.601615",
     "status": "completed"
    },
    "tags": []
   },
   "outputs": [],
   "source": [
    "n_classes=len(encoded_classes)"
   ]
  },
  {
   "cell_type": "code",
   "execution_count": 38,
   "id": "cc0970a2",
   "metadata": {
    "execution": {
     "iopub.execute_input": "2024-04-09T08:52:09.599850Z",
     "iopub.status.busy": "2024-04-09T08:52:09.598385Z",
     "iopub.status.idle": "2024-04-09T08:52:09.604825Z",
     "shell.execute_reply": "2024-04-09T08:52:09.603539Z"
    },
    "papermill": {
     "duration": 0.316624,
     "end_time": "2024-04-09T08:52:09.607468",
     "exception": false,
     "start_time": "2024-04-09T08:52:09.290844",
     "status": "completed"
    },
    "tags": []
   },
   "outputs": [],
   "source": [
    "id_to_label={}\n",
    "label_to_id={}\n",
    "for i,v in enumerate(encoded_classes):\n",
    "    id_to_label[i]=v\n",
    "    label_to_id[v]=1"
   ]
  },
  {
   "cell_type": "markdown",
   "id": "3d0248a7",
   "metadata": {
    "papermill": {
     "duration": 0.306529,
     "end_time": "2024-04-09T08:52:10.220574",
     "exception": false,
     "start_time": "2024-04-09T08:52:09.914045",
     "status": "completed"
    },
    "tags": []
   },
   "source": [
    "### Model Name: Multi Layer Perceptron (MLP)"
   ]
  },
  {
   "cell_type": "code",
   "execution_count": 39,
   "id": "04f6e990",
   "metadata": {
    "execution": {
     "iopub.execute_input": "2024-04-09T08:52:10.840192Z",
     "iopub.status.busy": "2024-04-09T08:52:10.839802Z",
     "iopub.status.idle": "2024-04-09T08:52:11.313131Z",
     "shell.execute_reply": "2024-04-09T08:52:11.312171Z"
    },
    "papermill": {
     "duration": 0.787543,
     "end_time": "2024-04-09T08:52:11.315764",
     "exception": false,
     "start_time": "2024-04-09T08:52:10.528221",
     "status": "completed"
    },
    "tags": []
   },
   "outputs": [],
   "source": [
    "import torch\n",
    "import torch.nn as nn\n",
    "import torch.optim as optim\n",
    "from torch.utils.data import DataLoader, TensorDataset\n",
    "\n",
    "# Define hyperparameters\n",
    "num_classes = n_classes  # Change this to your desired number of classes\n",
    "input_size =  X_train.shape[1]  # Set this to the dimension of your TF-IDF embeddings\n",
    "hidden_size = 64  # You can adjust this as needed\n",
    "batch_size = 32\n",
    "learning_rate = 0.001\n",
    "num_epochs = 10\n",
    "\n",
    "# Early stopping parameters\n",
    "patience = 3  # Number of epochs with no improvement to wait before stopping\n",
    "best_dev_accuracy = 0.0\n",
    "counter = 0\n",
    "\n",
    "# Load your TF-IDF embeddings and labels\n",
    "train_embeddings = X_train\n",
    "dev_embeddings = X_dev\n",
    "test_embeddings =X_test\n",
    "train_labels = train_labels_encoded\n",
    "dev_labels = dev_labels_encoded\n",
    "test_labels = test_labels_encoded\n",
    "\n",
    "# Convert data to PyTorch tensors\n",
    "train_data = TensorDataset(torch.tensor(train_embeddings, dtype=torch.float32),\n",
    "                           torch.tensor(train_labels, dtype=torch.long))\n",
    "dev_data = TensorDataset(torch.tensor(dev_embeddings, dtype=torch.float32),\n",
    "                         torch.tensor(dev_labels, dtype=torch.long))\n",
    "test_data = TensorDataset(torch.tensor(test_embeddings, dtype=torch.float32),\n",
    "                          torch.tensor(test_labels, dtype=torch.long))\n",
    "\n",
    "# Create data loaders\n",
    "train_loader = DataLoader(train_data, batch_size=batch_size, shuffle=True)\n",
    "dev_loader = DataLoader(dev_data, batch_size=batch_size)\n",
    "test_loader = DataLoader(test_data, batch_size=batch_size)"
   ]
  },
  {
   "cell_type": "code",
   "execution_count": 40,
   "id": "9f5d67c7",
   "metadata": {
    "execution": {
     "iopub.execute_input": "2024-04-09T08:52:11.926354Z",
     "iopub.status.busy": "2024-04-09T08:52:11.925660Z",
     "iopub.status.idle": "2024-04-09T08:52:11.933520Z",
     "shell.execute_reply": "2024-04-09T08:52:11.932243Z"
    },
    "papermill": {
     "duration": 0.314989,
     "end_time": "2024-04-09T08:52:11.936166",
     "exception": false,
     "start_time": "2024-04-09T08:52:11.621177",
     "status": "completed"
    },
    "tags": []
   },
   "outputs": [],
   "source": [
    "# Define the neural network model\n",
    "class MultilayerNN(nn.Module):\n",
    "    def __init__(self, input_size, hidden_size, num_classes):\n",
    "        super(MultilayerNN, self).__init__()\n",
    "        self.fc1 = nn.Linear(input_size, hidden_size)\n",
    "        self.relu = nn.ReLU()\n",
    "        self.fc2 = nn.Linear(hidden_size, num_classes)\n",
    "    \n",
    "    def forward(self, x):\n",
    "        x = self.fc1(x)\n",
    "        x = self.relu(x)\n",
    "        x = self.fc2(x)\n",
    "        return x"
   ]
  },
  {
   "cell_type": "code",
   "execution_count": 41,
   "id": "a7a6571e",
   "metadata": {
    "execution": {
     "iopub.execute_input": "2024-04-09T08:52:12.633549Z",
     "iopub.status.busy": "2024-04-09T08:52:12.633099Z",
     "iopub.status.idle": "2024-04-09T08:52:13.414215Z",
     "shell.execute_reply": "2024-04-09T08:52:13.412917Z"
    },
    "papermill": {
     "duration": 1.105295,
     "end_time": "2024-04-09T08:52:13.417102",
     "exception": false,
     "start_time": "2024-04-09T08:52:12.311807",
     "status": "completed"
    },
    "tags": []
   },
   "outputs": [],
   "source": [
    "# Initialize the model and optimizer\n",
    "model = MultilayerNN(input_size, hidden_size, num_classes)\n",
    "optimizer = optim.Adam(model.parameters(), lr=learning_rate)\n",
    "criterion = nn.CrossEntropyLoss()"
   ]
  },
  {
   "cell_type": "code",
   "execution_count": 42,
   "id": "4172fe17",
   "metadata": {
    "execution": {
     "iopub.execute_input": "2024-04-09T08:52:14.039319Z",
     "iopub.status.busy": "2024-04-09T08:52:14.038894Z",
     "iopub.status.idle": "2024-04-09T08:52:30.455383Z",
     "shell.execute_reply": "2024-04-09T08:52:30.454210Z"
    },
    "papermill": {
     "duration": 16.731917,
     "end_time": "2024-04-09T08:52:30.458020",
     "exception": false,
     "start_time": "2024-04-09T08:52:13.726103",
     "status": "completed"
    },
    "tags": []
   },
   "outputs": [
    {
     "name": "stdout",
     "output_type": "stream",
     "text": [
      "Epoch [1/10] | Dev Accuracy: 56.20%\n",
      "Epoch [2/10] | Dev Accuracy: 57.80%\n",
      "Epoch [3/10] | Dev Accuracy: 57.78%\n",
      "Epoch [4/10] | Dev Accuracy: 56.94%\n",
      "Epoch [5/10] | Dev Accuracy: 56.61%\n",
      "Early stopping after 5 epochs.\n"
     ]
    }
   ],
   "source": [
    "# Training loop\n",
    "for epoch in range(num_epochs):\n",
    "    model.train()\n",
    "    for inputs, labels in train_loader:\n",
    "        optimizer.zero_grad()\n",
    "        outputs = model(inputs)\n",
    "        loss = criterion(outputs, labels)\n",
    "        loss.backward()\n",
    "        optimizer.step()\n",
    "    \n",
    "    # Evaluate on the development set\n",
    "    model.eval()\n",
    "    with torch.no_grad():\n",
    "        dev_predictions=[]\n",
    "        correct = 0\n",
    "        total = 0\n",
    "        for inputs, labels in dev_loader:\n",
    "            outputs = model(inputs)\n",
    "            _, predicted = torch.max(outputs, 1)\n",
    "            dev_predictions.extend(list(predicted.numpy()))\n",
    "            total += labels.size(0)\n",
    "            correct += (predicted == labels).sum().item()\n",
    "        \n",
    "        accuracy = 100 * correct / total\n",
    "        print(f'Epoch [{epoch + 1}/{num_epochs}] | Dev Accuracy: {accuracy:.2f}%')\n",
    "        \n",
    "        # Check for early stopping\n",
    "        if accuracy > best_dev_accuracy:\n",
    "            best_dev_accuracy = accuracy\n",
    "            counter = 0\n",
    "        else:\n",
    "            counter += 1\n",
    "        \n",
    "        if counter >= patience:\n",
    "            print(f'Early stopping after {epoch + 1} epochs.')\n",
    "            break"
   ]
  },
  {
   "cell_type": "code",
   "execution_count": 43,
   "id": "6db0822f",
   "metadata": {
    "execution": {
     "iopub.execute_input": "2024-04-09T08:52:31.074773Z",
     "iopub.status.busy": "2024-04-09T08:52:31.074016Z",
     "iopub.status.idle": "2024-04-09T08:52:31.234240Z",
     "shell.execute_reply": "2024-04-09T08:52:31.232857Z"
    },
    "papermill": {
     "duration": 0.47215,
     "end_time": "2024-04-09T08:52:31.237401",
     "exception": false,
     "start_time": "2024-04-09T08:52:30.765251",
     "status": "completed"
    },
    "tags": []
   },
   "outputs": [
    {
     "name": "stdout",
     "output_type": "stream",
     "text": [
      "Test Accuracy: 56.23%\n"
     ]
    }
   ],
   "source": [
    "# Evaluate on the test set\n",
    "model.eval()\n",
    "with torch.no_grad():\n",
    "    test_predictions=[]\n",
    "    correct = 0\n",
    "    total = 0\n",
    "    for inputs, labels in test_loader:\n",
    "        outputs = model(inputs)\n",
    "        _, predicted = torch.max(outputs, 1)\n",
    "        test_predictions.extend(list(predicted.numpy()))\n",
    "        total += labels.size(0)\n",
    "        correct += (predicted == labels).sum().item()\n",
    "    \n",
    "    test_accuracy = 100 * correct / total\n",
    "    print(f'Test Accuracy: {test_accuracy:.2f}%')\n",
    "\n",
    "# Save the trained model if needed\n",
    "torch.save(model.state_dict(), 'multilayer_nn_model.pth')"
   ]
  },
  {
   "cell_type": "code",
   "execution_count": 44,
   "id": "97afef36",
   "metadata": {
    "execution": {
     "iopub.execute_input": "2024-04-09T08:52:31.853482Z",
     "iopub.status.busy": "2024-04-09T08:52:31.853084Z",
     "iopub.status.idle": "2024-04-09T08:52:31.859197Z",
     "shell.execute_reply": "2024-04-09T08:52:31.858161Z"
    },
    "papermill": {
     "duration": 0.315626,
     "end_time": "2024-04-09T08:52:31.861339",
     "exception": false,
     "start_time": "2024-04-09T08:52:31.545713",
     "status": "completed"
    },
    "tags": []
   },
   "outputs": [],
   "source": [
    "mlp_test_predictions=label_encoder.inverse_transform(test_predictions)"
   ]
  },
  {
   "cell_type": "markdown",
   "id": "a2dfb2b4",
   "metadata": {
    "papermill": {
     "duration": 0.322769,
     "end_time": "2024-04-09T08:52:32.489620",
     "exception": false,
     "start_time": "2024-04-09T08:52:32.166851",
     "status": "completed"
    },
    "tags": []
   },
   "source": [
    "### Model Name: Logistic Regression"
   ]
  },
  {
   "cell_type": "code",
   "execution_count": 45,
   "id": "43a9fafa",
   "metadata": {
    "execution": {
     "iopub.execute_input": "2024-04-09T08:52:33.166780Z",
     "iopub.status.busy": "2024-04-09T08:52:33.166352Z",
     "iopub.status.idle": "2024-04-09T08:53:14.045076Z",
     "shell.execute_reply": "2024-04-09T08:53:14.040883Z"
    },
    "papermill": {
     "duration": 41.190672,
     "end_time": "2024-04-09T08:53:14.049773",
     "exception": false,
     "start_time": "2024-04-09T08:52:32.859101",
     "status": "completed"
    },
    "tags": []
   },
   "outputs": [
    {
     "name": "stdout",
     "output_type": "stream",
     "text": [
      "Cross-validation scores: [0.55942485 0.56269663 0.56629213 0.56404494 0.57595506]\n",
      "Average Cross-validation score: 0.5656827224787259\n",
      "Test Accuracy: 0.58\n"
     ]
    }
   ],
   "source": [
    "from sklearn import linear_model\n",
    "from sklearn.model_selection import cross_val_score\n",
    "from sklearn.linear_model import LogisticRegression\n",
    "from sklearn.metrics import accuracy_score\n",
    "\n",
    "# Combine the training and dev sets\n",
    "X_train_dev = np.concatenate((X_train, X_dev), axis=0)\n",
    "y_train_dev = np.concatenate((train_labels,dev_labels), axis=0)\n",
    "\n",
    "# Initialize a logistic regression model\n",
    "model = LogisticRegression(multi_class='ovr', solver='liblinear')\n",
    "\n",
    "# Perform K-Fold cross-validation on the combined training and dev set\n",
    "num_folds = 5  # Change this to the desired number of folds\n",
    "cv_scores = cross_val_score(model, X_train_dev, y_train_dev, cv=num_folds, scoring='accuracy')\n",
    "\n",
    "# Print the cross-validation scores for each fold\n",
    "print(\"Cross-validation scores:\", cv_scores)\n",
    "\n",
    "# Calculate the average cross-validation score\n",
    "avg_cv_score = cv_scores.mean()\n",
    "print(\"Average Cross-validation score:\", avg_cv_score)\n",
    "\n",
    "# Train the model on the entire combined training and dev set\n",
    "model.fit(X_train_dev, y_train_dev)\n",
    "\n",
    "# Evaluate the model on the test set\n",
    "lr_test_predictions = model.predict(X_test)\n",
    "test_accuracy = accuracy_score(test_labels, lr_test_predictions)\n",
    "print(f'Test Accuracy: {test_accuracy:.2f}')"
   ]
  },
  {
   "cell_type": "code",
   "execution_count": 46,
   "id": "40688dee",
   "metadata": {
    "execution": {
     "iopub.execute_input": "2024-04-09T08:53:14.726931Z",
     "iopub.status.busy": "2024-04-09T08:53:14.725656Z",
     "iopub.status.idle": "2024-04-09T08:53:14.731235Z",
     "shell.execute_reply": "2024-04-09T08:53:14.730386Z"
    },
    "papermill": {
     "duration": 0.314997,
     "end_time": "2024-04-09T08:53:14.733256",
     "exception": false,
     "start_time": "2024-04-09T08:53:14.418259",
     "status": "completed"
    },
    "tags": []
   },
   "outputs": [],
   "source": [
    "lr_test_predictions=label_encoder.inverse_transform(lr_test_predictions)"
   ]
  },
  {
   "cell_type": "markdown",
   "id": "b7ec92a6",
   "metadata": {
    "papermill": {
     "duration": 0.305676,
     "end_time": "2024-04-09T08:53:15.343956",
     "exception": false,
     "start_time": "2024-04-09T08:53:15.038280",
     "status": "completed"
    },
    "tags": []
   },
   "source": [
    "### Model Name: Support Vector Machine"
   ]
  },
  {
   "cell_type": "code",
   "execution_count": 47,
   "id": "84354b3c",
   "metadata": {
    "execution": {
     "iopub.execute_input": "2024-04-09T08:53:15.955262Z",
     "iopub.status.busy": "2024-04-09T08:53:15.954106Z",
     "iopub.status.idle": "2024-04-09T08:54:07.305313Z",
     "shell.execute_reply": "2024-04-09T08:54:07.300579Z"
    },
    "papermill": {
     "duration": 51.662797,
     "end_time": "2024-04-09T08:54:07.311047",
     "exception": false,
     "start_time": "2024-04-09T08:53:15.648250",
     "status": "completed"
    },
    "tags": []
   },
   "outputs": [
    {
     "name": "stdout",
     "output_type": "stream",
     "text": [
      "Cross-validation scores: [0.54032802 0.55033708 0.55011236 0.54       0.55662921]\n",
      "Average Cross-validation score: 0.5474813335723067\n",
      "Test Accuracy: 0.57\n"
     ]
    }
   ],
   "source": [
    "from sklearn import svm\n",
    "# Combine the training and dev sets\n",
    "X_train_dev = np.concatenate((X_train, X_dev), axis=0)\n",
    "y_train_dev = np.concatenate((train_labels,dev_labels), axis=0)\n",
    "\n",
    "# Initialize a logistic regression model\n",
    "clf = svm.LinearSVC()\n",
    "model = clf\n",
    "\n",
    "# Perform K-Fold cross-validation on the combined training and dev set\n",
    "num_folds = 5  # Change this to the desired number of folds\n",
    "cv_scores = cross_val_score(model, X_train_dev, y_train_dev, cv=num_folds, scoring='accuracy')\n",
    "\n",
    "# Print the cross-validation scores for each fold\n",
    "print(\"Cross-validation scores:\", cv_scores)\n",
    "\n",
    "# Calculate the average cross-validation score\n",
    "avg_cv_score = cv_scores.mean()\n",
    "print(\"Average Cross-validation score:\", avg_cv_score)\n",
    "\n",
    "# Train the model on the entire combined training and dev set\n",
    "model.fit(X_train_dev, y_train_dev)\n",
    "\n",
    "# Evaluate the model on the test set\n",
    "svm_test_pred = model.predict(X_test)\n",
    "test_accuracy = accuracy_score(test_labels, svm_test_pred)\n",
    "print(f'Test Accuracy: {test_accuracy:.2f}')"
   ]
  },
  {
   "cell_type": "code",
   "execution_count": 48,
   "id": "ecad407c",
   "metadata": {
    "execution": {
     "iopub.execute_input": "2024-04-09T08:54:08.060599Z",
     "iopub.status.busy": "2024-04-09T08:54:08.060183Z",
     "iopub.status.idle": "2024-04-09T08:54:08.066893Z",
     "shell.execute_reply": "2024-04-09T08:54:08.065844Z"
    },
    "papermill": {
     "duration": 0.399384,
     "end_time": "2024-04-09T08:54:08.069461",
     "exception": false,
     "start_time": "2024-04-09T08:54:07.670077",
     "status": "completed"
    },
    "tags": []
   },
   "outputs": [],
   "source": [
    "svm_test_predictions=label_encoder.inverse_transform(svm_test_pred)"
   ]
  },
  {
   "cell_type": "markdown",
   "id": "585b64de",
   "metadata": {
    "papermill": {
     "duration": 0.304869,
     "end_time": "2024-04-09T08:54:08.683114",
     "exception": false,
     "start_time": "2024-04-09T08:54:08.378245",
     "status": "completed"
    },
    "tags": []
   },
   "source": [
    "### Model Name: Bagging"
   ]
  },
  {
   "cell_type": "code",
   "execution_count": 49,
   "id": "a66810fe",
   "metadata": {
    "execution": {
     "iopub.execute_input": "2024-04-09T08:54:09.293326Z",
     "iopub.status.busy": "2024-04-09T08:54:09.292734Z",
     "iopub.status.idle": "2024-04-09T09:11:39.108937Z",
     "shell.execute_reply": "2024-04-09T09:11:39.098198Z"
    },
    "papermill": {
     "duration": 1050.478769,
     "end_time": "2024-04-09T09:11:39.464956",
     "exception": false,
     "start_time": "2024-04-09T08:54:08.986187",
     "status": "completed"
    },
    "tags": []
   },
   "outputs": [
    {
     "name": "stdout",
     "output_type": "stream",
     "text": [
      "Cross-validation scores: [0.54032802 0.54022472 0.54898876 0.53955056 0.5552809 ]\n",
      "Average Cross-validation score: 0.544874591999273\n",
      "Test Accuracy: 0.56\n"
     ]
    }
   ],
   "source": [
    "from sklearn import svm\n",
    "from sklearn.ensemble import BaggingClassifier\n",
    "# Combine the training and dev sets\n",
    "X_train_dev = np.concatenate((X_train, X_dev), axis=0)\n",
    "y_train_dev = np.concatenate((train_labels,dev_labels), axis=0)\n",
    "\n",
    "# Initialize a logistic regression model\n",
    "clf = svm.LinearSVC()\n",
    "model = BaggingClassifier(clf)\n",
    "\n",
    "# Perform K-Fold cross-validation on the combined training and dev set\n",
    "num_folds = 5  # Change this to the desired number of folds\n",
    "cv_scores = cross_val_score(model, X_train_dev, y_train_dev, cv=num_folds, scoring='accuracy')\n",
    "\n",
    "# Print the cross-validation scores for each fold\n",
    "print(\"Cross-validation scores:\", cv_scores)\n",
    "\n",
    "# Calculate the average cross-validation score\n",
    "avg_cv_score = cv_scores.mean()\n",
    "print(\"Average Cross-validation score:\", avg_cv_score)\n",
    "\n",
    "# Train the model on the entire combined training and dev set\n",
    "model.fit(X_train_dev, y_train_dev)\n",
    "\n",
    "# Evaluate the model on the test set\n",
    "bagging_test_pred = model.predict(X_test)\n",
    "test_accuracy = accuracy_score(test_labels, bagging_test_pred)\n",
    "print(f'Test Accuracy: {test_accuracy:.2f}')"
   ]
  },
  {
   "cell_type": "code",
   "execution_count": 50,
   "id": "e03517f3",
   "metadata": {
    "execution": {
     "iopub.execute_input": "2024-04-09T09:11:40.152796Z",
     "iopub.status.busy": "2024-04-09T09:11:40.152356Z",
     "iopub.status.idle": "2024-04-09T09:11:40.158410Z",
     "shell.execute_reply": "2024-04-09T09:11:40.157136Z"
    },
    "papermill": {
     "duration": 0.387797,
     "end_time": "2024-04-09T09:11:40.160991",
     "exception": false,
     "start_time": "2024-04-09T09:11:39.773194",
     "status": "completed"
    },
    "tags": []
   },
   "outputs": [],
   "source": [
    "bagging_test_predictions=label_encoder.inverse_transform(bagging_test_pred)"
   ]
  },
  {
   "cell_type": "markdown",
   "id": "165ed78b",
   "metadata": {
    "papermill": {
     "duration": 0.306744,
     "end_time": "2024-04-09T09:11:40.774343",
     "exception": false,
     "start_time": "2024-04-09T09:11:40.467599",
     "status": "completed"
    },
    "tags": []
   },
   "source": [
    "### Classification Report and Confusion Matrix"
   ]
  },
  {
   "cell_type": "code",
   "execution_count": 51,
   "id": "b3d2dad9",
   "metadata": {
    "execution": {
     "iopub.execute_input": "2024-04-09T09:11:41.394838Z",
     "iopub.status.busy": "2024-04-09T09:11:41.394188Z",
     "iopub.status.idle": "2024-04-09T09:11:41.667018Z",
     "shell.execute_reply": "2024-04-09T09:11:41.665776Z"
    },
    "papermill": {
     "duration": 0.584018,
     "end_time": "2024-04-09T09:11:41.669888",
     "exception": false,
     "start_time": "2024-04-09T09:11:41.085870",
     "status": "completed"
    },
    "tags": []
   },
   "outputs": [],
   "source": [
    "import seaborn as sns\n",
    "import matplotlib.pyplot as plt\n",
    "from sklearn.metrics import confusion_matrix\n",
    "def plot_cm(y_true, y_pred):\n",
    "    # Compute confusion matrix\n",
    "    cm = confusion_matrix(y_true, y_pred)\n",
    "\n",
    "    # Define class labels\n",
    "    # classes = np.unique(y_true) \n",
    "    classes = [\"HREL\", \"MREL\", \"LREL\"] # to print the matrix labels in order (other wise comment this and uncomment above line)\n",
    "\n",
    "    # Plot confusion matrix\n",
    "    sns.heatmap(cm, annot=True, cmap='Blues', fmt='g', xticklabels=classes, yticklabels=classes)\n",
    "\n",
    "    # Add labels, title, and axis ticks\n",
    "    plt.xlabel(\"Predicted\")\n",
    "    plt.ylabel(\"True\")\n",
    "    plt.title(\"Confusion Matrix\")\n",
    "    plt.show()"
   ]
  },
  {
   "cell_type": "code",
   "execution_count": 52,
   "id": "ae29e4f4",
   "metadata": {
    "execution": {
     "iopub.execute_input": "2024-04-09T09:11:42.292851Z",
     "iopub.status.busy": "2024-04-09T09:11:42.292409Z",
     "iopub.status.idle": "2024-04-09T09:11:42.298852Z",
     "shell.execute_reply": "2024-04-09T09:11:42.297523Z"
    },
    "papermill": {
     "duration": 0.32511,
     "end_time": "2024-04-09T09:11:42.301481",
     "exception": false,
     "start_time": "2024-04-09T09:11:41.976371",
     "status": "completed"
    },
    "tags": []
   },
   "outputs": [],
   "source": [
    "from sklearn.metrics import classification_report\n",
    "def print_classification_report(y_true, y_pred):\n",
    "    # Define class labels\n",
    "    #classes = np.unique(y_true)\n",
    "    classes = [\"HREL\", \"MREL\", \"LREL\"] # to print the matrix labels in order (other wise comment this and uncomment above line)\n",
    "    print(classification_report(y_true=y_true, y_pred=y_pred,target_names=classes,zero_division=0))"
   ]
  },
  {
   "cell_type": "code",
   "execution_count": 53,
   "id": "793f7c32",
   "metadata": {
    "execution": {
     "iopub.execute_input": "2024-04-09T09:11:42.939243Z",
     "iopub.status.busy": "2024-04-09T09:11:42.938813Z",
     "iopub.status.idle": "2024-04-09T09:11:42.945454Z",
     "shell.execute_reply": "2024-04-09T09:11:42.944209Z"
    },
    "papermill": {
     "duration": 0.315618,
     "end_time": "2024-04-09T09:11:42.948019",
     "exception": false,
     "start_time": "2024-04-09T09:11:42.632401",
     "status": "completed"
    },
    "tags": []
   },
   "outputs": [],
   "source": [
    "def display_result(model_name, test_predictions):\n",
    "    print('Model Name:{}\\n'.format(model_name))\n",
    "    # Example ground truth labels and predicted labels\n",
    "    y_true = np.array(label_encoder.inverse_transform(test_labels))\n",
    "    y_pred = np.array(test_predictions)\n",
    "    plot_cm(y_true, y_pred)\n",
    "    print_classification_report(y_true, y_pred)"
   ]
  },
  {
   "cell_type": "code",
   "execution_count": 54,
   "id": "402d8931",
   "metadata": {
    "execution": {
     "iopub.execute_input": "2024-04-09T09:11:43.639330Z",
     "iopub.status.busy": "2024-04-09T09:11:43.638923Z",
     "iopub.status.idle": "2024-04-09T09:11:44.188337Z",
     "shell.execute_reply": "2024-04-09T09:11:44.186890Z"
    },
    "papermill": {
     "duration": 0.932533,
     "end_time": "2024-04-09T09:11:44.191020",
     "exception": false,
     "start_time": "2024-04-09T09:11:43.258487",
     "status": "completed"
    },
    "tags": []
   },
   "outputs": [
    {
     "name": "stdout",
     "output_type": "stream",
     "text": [
      "Model Name:Multilayer Perceptron\n",
      "\n"
     ]
    },
    {
     "data": {
      "image/png": "[encoded data removed]",
      "text/plain": [
       "<Figure size 640x480 with 2 Axes>"
      ]
     },
     "metadata": {},
     "output_type": "display_data"
    },
    {
     "name": "stdout",
     "output_type": "stream",
     "text": [
      "              precision    recall  f1-score   support\n",
      "\n",
      "        HREL       0.56      0.69      0.62      1278\n",
      "        MREL       0.58      0.62      0.60      1126\n",
      "        LREL       0.54      0.41      0.47      1523\n",
      "\n",
      "    accuracy                           0.56      3927\n",
      "   macro avg       0.56      0.57      0.56      3927\n",
      "weighted avg       0.56      0.56      0.56      3927\n",
      "\n"
     ]
    }
   ],
   "source": [
    "display_result('Multilayer Perceptron',mlp_test_predictions)"
   ]
  },
  {
   "cell_type": "code",
   "execution_count": 55,
   "id": "6e32e220",
   "metadata": {
    "execution": {
     "iopub.execute_input": "2024-04-09T09:11:44.817027Z",
     "iopub.status.busy": "2024-04-09T09:11:44.815764Z",
     "iopub.status.idle": "2024-04-09T09:11:45.390270Z",
     "shell.execute_reply": "2024-04-09T09:11:45.388970Z"
    },
    "papermill": {
     "duration": 0.889916,
     "end_time": "2024-04-09T09:11:45.392908",
     "exception": false,
     "start_time": "2024-04-09T09:11:44.502992",
     "status": "completed"
    },
    "tags": []
   },
   "outputs": [
    {
     "name": "stdout",
     "output_type": "stream",
     "text": [
      "Model Name:Logistic Regression\n",
      "\n"
     ]
    },
    {
     "data": {
      "image/png": "[encoded data removed]",
      "text/plain": [
       "<Figure size 640x480 with 2 Axes>"
      ]
     },
     "metadata": {},
     "output_type": "display_data"
    },
    {
     "name": "stdout",
     "output_type": "stream",
     "text": [
      "              precision    recall  f1-score   support\n",
      "\n",
      "        HREL       0.60      0.64      0.62      1278\n",
      "        MREL       0.62      0.56      0.59      1126\n",
      "        LREL       0.53      0.54      0.53      1523\n",
      "\n",
      "    accuracy                           0.58      3927\n",
      "   macro avg       0.58      0.58      0.58      3927\n",
      "weighted avg       0.58      0.58      0.58      3927\n",
      "\n"
     ]
    }
   ],
   "source": [
    "display_result('Logistic Regression',lr_test_predictions)"
   ]
  },
  {
   "cell_type": "code",
   "execution_count": 56,
   "id": "ff411039",
   "metadata": {
    "execution": {
     "iopub.execute_input": "2024-04-09T09:11:46.043054Z",
     "iopub.status.busy": "2024-04-09T09:11:46.041959Z",
     "iopub.status.idle": "2024-04-09T09:11:46.898826Z",
     "shell.execute_reply": "2024-04-09T09:11:46.897181Z"
    },
    "papermill": {
     "duration": 1.182644,
     "end_time": "2024-04-09T09:11:46.901310",
     "exception": false,
     "start_time": "2024-04-09T09:11:45.718666",
     "status": "completed"
    },
    "tags": []
   },
   "outputs": [
    {
     "name": "stdout",
     "output_type": "stream",
     "text": [
      "Model Name:Support Vector Machine\n",
      "\n"
     ]
    },
    {
     "data": {
      "image/png": "[encoded data removed]",
      "text/plain": [
       "<Figure size 640x480 with 2 Axes>"
      ]
     },
     "metadata": {},
     "output_type": "display_data"
    },
    {
     "name": "stdout",
     "output_type": "stream",
     "text": [
      "              precision    recall  f1-score   support\n",
      "\n",
      "        HREL       0.59      0.62      0.60      1278\n",
      "        MREL       0.61      0.56      0.58      1126\n",
      "        LREL       0.52      0.53      0.52      1523\n",
      "\n",
      "    accuracy                           0.57      3927\n",
      "   macro avg       0.57      0.57      0.57      3927\n",
      "weighted avg       0.57      0.57      0.57      3927\n",
      "\n"
     ]
    }
   ],
   "source": [
    "display_result('Support Vector Machine',svm_test_predictions)"
   ]
  },
  {
   "cell_type": "code",
   "execution_count": 57,
   "id": "93f00f7e",
   "metadata": {
    "execution": {
     "iopub.execute_input": "2024-04-09T09:11:47.527050Z",
     "iopub.status.busy": "2024-04-09T09:11:47.526593Z",
     "iopub.status.idle": "2024-04-09T09:11:48.020914Z",
     "shell.execute_reply": "2024-04-09T09:11:48.019619Z"
    },
    "papermill": {
     "duration": 0.808555,
     "end_time": "2024-04-09T09:11:48.023610",
     "exception": false,
     "start_time": "2024-04-09T09:11:47.215055",
     "status": "completed"
    },
    "tags": []
   },
   "outputs": [
    {
     "name": "stdout",
     "output_type": "stream",
     "text": [
      "Model Name:Bagging\n",
      "\n"
     ]
    },
    {
     "data": {
      "image/png": "[encoded data removed]",
      "text/plain": [
       "<Figure size 640x480 with 2 Axes>"
      ]
     },
     "metadata": {},
     "output_type": "display_data"
    },
    {
     "name": "stdout",
     "output_type": "stream",
     "text": [
      "              precision    recall  f1-score   support\n",
      "\n",
      "        HREL       0.58      0.63      0.60      1278\n",
      "        MREL       0.60      0.56      0.58      1126\n",
      "        LREL       0.51      0.50      0.51      1523\n",
      "\n",
      "    accuracy                           0.56      3927\n",
      "   macro avg       0.56      0.56      0.56      3927\n",
      "weighted avg       0.56      0.56      0.56      3927\n",
      "\n"
     ]
    }
   ],
   "source": [
    "display_result('Bagging',bagging_test_predictions)"
   ]
  },
  {
   "cell_type": "code",
   "execution_count": null,
   "id": "9774f15d",
   "metadata": {
    "papermill": {
     "duration": 0.309689,
     "end_time": "2024-04-09T09:11:48.647308",
     "exception": false,
     "start_time": "2024-04-09T09:11:48.337619",
     "status": "completed"
    },
    "tags": []
   },
   "outputs": [],
   "source": []
  }
 ],
 "metadata": {
  "kaggle": {
   "accelerator": "none",
   "dataSources": [
    {
     "datasetId": 2862827,
     "sourceId": 4936855,
     "sourceType": "datasetVersion"
    },
    {
     "datasetId": 3338966,
     "sourceId": 5812232,
     "sourceType": "datasetVersion"
    },
    {
     "datasetId": 3843118,
     "sourceId": 8062333,
     "sourceType": "datasetVersion"
    }
   ],
   "dockerImageVersionId": 30673,
   "isGpuEnabled": false,
   "isInternetEnabled": true,
   "language": "python",
   "sourceType": "notebook"
  },
  "kernelspec": {
   "display_name": "Python 3 (ipykernel)",
   "language": "python",
   "name": "python3"
  },
  "language_info": {
   "codemirror_mode": {
    "name": "ipython",
    "version": 3
   },
   "file_extension": ".py",
   "mimetype": "text/x-python",
   "name": "python",
   "nbconvert_exporter": "python",
   "pygments_lexer": "ipython3",
   "version": "3.10.12"
  },
  "papermill": {
   "default_parameters": {},
   "duration": 1937.652211,
   "end_time": "2024-04-09T09:11:52.083290",
   "environment_variables": {},
   "exception": null,
   "input_path": "__notebook__.ipynb",
   "output_path": "__notebook__.ipynb",
   "parameters": {},
   "start_time": "2024-04-09T08:39:34.431079",
   "version": "2.5.0"
  },
  "widgets": {
   "application/vnd.jupyter.widget-state+json": {
    "state": {
     "06e664542d7347eeb5276c0c63256bc7": {
      "model_module": "@jupyter-widgets/base",
      "model_module_version": "1.2.0",
      "model_name": "LayoutModel",
      "state": {
       "_model_module": "@jupyter-widgets/base",
       "_model_module_version": "1.2.0",
       "_model_name": "LayoutModel",
       "_view_count": null,
       "_view_module": "@jupyter-widgets/base",
       "_view_module_version": "1.2.0",
       "_view_name": "LayoutView",
       "align_content": null,
       "align_items": null,
       "align_self": null,
       "border": null,
       "bottom": null,
       "display": null,
       "flex": null,
       "flex_flow": null,
       "grid_area": null,
       "grid_auto_columns": null,
       "grid_auto_flow": null,
       "grid_auto_rows": null,
       "grid_column": null,
       "grid_gap": null,
       "grid_row": null,
       "grid_template_areas": null,
       "grid_template_columns": null,
       "grid_template_rows": null,
       "height": null,
       "justify_content": null,
       "justify_items": null,
       "left": null,
       "margin": null,
       "max_height": null,
       "max_width": null,
       "min_height": null,
       "min_width": null,
       "object_fit": null,
       "object_position": null,
       "order": null,
       "overflow": null,
       "overflow_x": null,
       "overflow_y": null,
       "padding": null,
       "right": null,
       "top": null,
       "visibility": null,
       "width": null
      }
     },
     "09eb20d51bf74949802f52680ed48d86": {
      "model_module": "@jupyter-widgets/controls",
      "model_module_version": "1.5.0",
      "model_name": "FloatProgressModel",
      "state": {
       "_dom_classes": [],
       "_model_module": "@jupyter-widgets/controls",
       "_model_module_version": "1.5.0",
       "_model_name": "FloatProgressModel",
       "_view_count": null,
       "_view_module": "@jupyter-widgets/controls",
       "_view_module_version": "1.5.0",
       "_view_name": "ProgressView",
       "bar_style": "success",
       "description": "",
       "description_tooltip": null,
       "layout": "IPY_MODEL_f9482d406acf4127a86d60c46480f654",
       "max": 1961828,
       "min": 0,
       "orientation": "horizontal",
       "style": "IPY_MODEL_c11c398c476a4cbaad4997da0f6712dc",
       "value": 1961828
      }
     },
     "0fcddbe037724800887a37cacf596795": {
      "model_module": "@jupyter-widgets/controls",
      "model_module_version": "1.5.0",
      "model_name": "FloatProgressModel",
      "state": {
       "_dom_classes": [],
       "_model_module": "@jupyter-widgets/controls",
       "_model_module_version": "1.5.0",
       "_model_name": "FloatProgressModel",
       "_view_count": null,
       "_view_module": "@jupyter-widgets/controls",
       "_view_module_version": "1.5.0",
       "_view_name": "ProgressView",
       "bar_style": "success",
       "description": "",
       "description_tooltip": null,
       "layout": "IPY_MODEL_128bc514d84c4dc9856e0f49fd7b7287",
       "max": 995526,
       "min": 0,
       "orientation": "horizontal",
       "style": "IPY_MODEL_cc76bffd636344529c55a9c07acca091",
       "value": 995526
      }
     },
     "128bc514d84c4dc9856e0f49fd7b7287": {
      "model_module": "@jupyter-widgets/base",
      "model_module_version": "1.2.0",
      "model_name": "LayoutModel",
      "state": {
       "_model_module": "@jupyter-widgets/base",
       "_model_module_version": "1.2.0",
       "_model_name": "LayoutModel",
       "_view_count": null,
       "_view_module": "@jupyter-widgets/base",
       "_view_module_version": "1.2.0",
       "_view_name": "LayoutView",
       "align_content": null,
       "align_items": null,
       "align_self": null,
       "border": null,
       "bottom": null,
       "display": null,
       "flex": null,
       "flex_flow": null,
       "grid_area": null,
       "grid_auto_columns": null,
       "grid_auto_flow": null,
       "grid_auto_rows": null,
       "grid_column": null,
       "grid_gap": null,
       "grid_row": null,
       "grid_template_areas": null,
       "grid_template_columns": null,
       "grid_template_rows": null,
       "height": null,
       "justify_content": null,
       "justify_items": null,
       "left": null,
       "margin": null,
       "max_height": null,
       "max_width": null,
       "min_height": null,
       "min_width": null,
       "object_fit": null,
       "object_position": null,
       "order": null,
       "overflow": null,
       "overflow_x": null,
       "overflow_y": null,
       "padding": null,
       "right": null,
       "top": null,
       "visibility": null,
       "width": null
      }
     },
     "1d33fdae6989479e829178ea70c5c7a5": {
      "model_module": "@jupyter-widgets/base",
      "model_module_version": "1.2.0",
      "model_name": "LayoutModel",
      "state": {
       "_model_module": "@jupyter-widgets/base",
       "_model_module_version": "1.2.0",
       "_model_name": "LayoutModel",
       "_view_count": null,
       "_view_module": "@jupyter-widgets/base",
       "_view_module_version": "1.2.0",
       "_view_name": "LayoutView",
       "align_content": null,
       "align_items": null,
       "align_self": null,
       "border": null,
       "bottom": null,
       "display": null,
       "flex": null,
       "flex_flow": null,
       "grid_area": null,
       "grid_auto_columns": null,
       "grid_auto_flow": null,
       "grid_auto_rows": null,
       "grid_column": null,
       "grid_gap": null,
       "grid_row": null,
       "grid_template_areas": null,
       "grid_template_columns": null,
       "grid_template_rows": null,
       "height": null,
       "justify_content": null,
       "justify_items": null,
       "left": null,
       "margin": null,
       "max_height": null,
       "max_width": null,
       "min_height": null,
       "min_width": null,
       "object_fit": null,
       "object_position": null,
       "order": null,
       "overflow": null,
       "overflow_x": null,
       "overflow_y": null,
       "padding": null,
       "right": null,
       "top": null,
       "visibility": null,
       "width": null
      }
     },
     "20a59667d8fa4e76b88a31e7a20d8d89": {
      "model_module": "@jupyter-widgets/base",
      "model_module_version": "1.2.0",
      "model_name": "LayoutModel",
      "state": {
       "_model_module": "@jupyter-widgets/base",
       "_model_module_version": "1.2.0",
       "_model_name": "LayoutModel",
       "_view_count": null,
       "_view_module": "@jupyter-widgets/base",
       "_view_module_version": "1.2.0",
       "_view_name": "LayoutView",
       "align_content": null,
       "align_items": null,
       "align_self": null,
       "border": null,
       "bottom": null,
       "display": null,
       "flex": null,
       "flex_flow": null,
       "grid_area": null,
       "grid_auto_columns": null,
       "grid_auto_flow": null,
       "grid_auto_rows": null,
       "grid_column": null,
       "grid_gap": null,
       "grid_row": null,
       "grid_template_areas": null,
       "grid_template_columns": null,
       "grid_template_rows": null,
       "height": null,
       "justify_content": null,
       "justify_items": null,
       "left": null,
       "margin": null,
       "max_height": null,
       "max_width": null,
       "min_height": null,
       "min_width": null,
       "object_fit": null,
       "object_position": null,
       "order": null,
       "overflow": null,
       "overflow_x": null,
       "overflow_y": null,
       "padding": null,
       "right": null,
       "top": null,
       "visibility": null,
       "width": null
      }
     },
     "287df324c4994e6292116e13e252af90": {
      "model_module": "@jupyter-widgets/controls",
      "model_module_version": "1.5.0",
      "model_name": "HTMLModel",
      "state": {
       "_dom_classes": [],
       "_model_module": "@jupyter-widgets/controls",
       "_model_module_version": "1.5.0",
       "_model_name": "HTMLModel",
       "_view_count": null,
       "_view_module": "@jupyter-widgets/controls",
       "_view_module_version": "1.5.0",
       "_view_name": "HTMLView",
       "description": "",
       "description_tooltip": null,
       "layout": "IPY_MODEL_6eef01db500d4abd8b0df8e3f1616ebb",
       "placeholder": "​",
       "style": "IPY_MODEL_8cf7e3c0d0754f24a02f957cbea2f123",
       "value": "tokenizer.json: 100%"
      }
     },
     "2dbccd8481b24a569b5e673749ec2d00": {
      "model_module": "@jupyter-widgets/base",
      "model_module_version": "1.2.0",
      "model_name": "LayoutModel",
      "state": {
       "_model_module": "@jupyter-widgets/base",
       "_model_module_version": "1.2.0",
       "_model_name": "LayoutModel",
       "_view_count": null,
       "_view_module": "@jupyter-widgets/base",
       "_view_module_version": "1.2.0",
       "_view_name": "LayoutView",
       "align_content": null,
       "align_items": null,
       "align_self": null,
       "border": null,
       "bottom": null,
       "display": null,
       "flex": null,
       "flex_flow": null,
       "grid_area": null,
       "grid_auto_columns": null,
       "grid_auto_flow": null,
       "grid_auto_rows": null,
       "grid_column": null,
       "grid_gap": null,
       "grid_row": null,
       "grid_template_areas": null,
       "grid_template_columns": null,
       "grid_template_rows": null,
       "height": null,
       "justify_content": null,
       "justify_items": null,
       "left": null,
       "margin": null,
       "max_height": null,
       "max_width": null,
       "min_height": null,
       "min_width": null,
       "object_fit": null,
       "object_position": null,
       "order": null,
       "overflow": null,
       "overflow_x": null,
       "overflow_y": null,
       "padding": null,
       "right": null,
       "top": null,
       "visibility": null,
       "width": null
      }
     },
     "36f04479e70745aa99cfcca88402387b": {
      "model_module": "@jupyter-widgets/controls",
      "model_module_version": "1.5.0",
      "model_name": "DescriptionStyleModel",
      "state": {
       "_model_module": "@jupyter-widgets/controls",
       "_model_module_version": "1.5.0",
       "_model_name": "DescriptionStyleModel",
       "_view_count": null,
       "_view_module": "@jupyter-widgets/base",
       "_view_module_version": "1.2.0",
       "_view_name": "StyleView",
       "description_width": ""
      }
     },
     "46348c4f69814373af3913e4930fe5f8": {
      "model_module": "@jupyter-widgets/controls",
      "model_module_version": "1.5.0",
      "model_name": "FloatProgressModel",
      "state": {
       "_dom_classes": [],
       "_model_module": "@jupyter-widgets/controls",
       "_model_module_version": "1.5.0",
       "_model_name": "FloatProgressModel",
       "_view_count": null,
       "_view_module": "@jupyter-widgets/controls",
       "_view_module_version": "1.5.0",
       "_view_name": "ProgressView",
       "bar_style": "success",
       "description": "",
       "description_tooltip": null,
       "layout": "IPY_MODEL_1d33fdae6989479e829178ea70c5c7a5",
       "max": 49,
       "min": 0,
       "orientation": "horizontal",
       "style": "IPY_MODEL_af9e3d8961364c89b0d50f634b828a8f",
       "value": 49
      }
     },
     "4c4146a7637b4d3db0d1333aa5120085": {
      "model_module": "@jupyter-widgets/controls",
      "model_module_version": "1.5.0",
      "model_name": "HBoxModel",
      "state": {
       "_dom_classes": [],
       "_model_module": "@jupyter-widgets/controls",
       "_model_module_version": "1.5.0",
       "_model_name": "HBoxModel",
       "_view_count": null,
       "_view_module": "@jupyter-widgets/controls",
       "_view_module_version": "1.5.0",
       "_view_name": "HBoxView",
       "box_style": "",
       "children": [
        "IPY_MODEL_7c75cc6f9c844928a861307ff14e9fbb",
        "IPY_MODEL_46348c4f69814373af3913e4930fe5f8",
        "IPY_MODEL_ff630445f432462a9d1821ec38f19ced"
       ],
       "layout": "IPY_MODEL_5c034cf4539a4460bbdcc9927baee48b"
      }
     },
     "500fcba8c79246f08141e6a114c41e6c": {
      "model_module": "@jupyter-widgets/controls",
      "model_module_version": "1.5.0",
      "model_name": "DescriptionStyleModel",
      "state": {
       "_model_module": "@jupyter-widgets/controls",
       "_model_module_version": "1.5.0",
       "_model_name": "DescriptionStyleModel",
       "_view_count": null,
       "_view_module": "@jupyter-widgets/base",
       "_view_module_version": "1.2.0",
       "_view_name": "StyleView",
       "description_width": ""
      }
     },
     "517c121c82eb44d2ab64830291715234": {
      "model_module": "@jupyter-widgets/controls",
      "model_module_version": "1.5.0",
      "model_name": "HTMLModel",
      "state": {
       "_dom_classes": [],
       "_model_module": "@jupyter-widgets/controls",
       "_model_module_version": "1.5.0",
       "_model_name": "HTMLModel",
       "_view_count": null,
       "_view_module": "@jupyter-widgets/controls",
       "_view_module_version": "1.5.0",
       "_view_name": "HTMLView",
       "description": "",
       "description_tooltip": null,
       "layout": "IPY_MODEL_6473c8a50f2b454f999cb1e2702b3d81",
       "placeholder": "​",
       "style": "IPY_MODEL_e4abf5e5758741dd9f6fe41affebead6",
       "value": " 996k/996k [00:00&lt;00:00, 3.02MB/s]"
      }
     },
     "5400449695e940deb5d03ee0753b4af5": {
      "model_module": "@jupyter-widgets/controls",
      "model_module_version": "1.5.0",
      "model_name": "DescriptionStyleModel",
      "state": {
       "_model_module": "@jupyter-widgets/controls",
       "_model_module_version": "1.5.0",
       "_model_name": "DescriptionStyleModel",
       "_view_count": null,
       "_view_module": "@jupyter-widgets/base",
       "_view_module_version": "1.2.0",
       "_view_name": "StyleView",
       "description_width": ""
      }
     },
     "55feb24698d449b7b238d4b88a698ef8": {
      "model_module": "@jupyter-widgets/controls",
      "model_module_version": "1.5.0",
      "model_name": "FloatProgressModel",
      "state": {
       "_dom_classes": [],
       "_model_module": "@jupyter-widgets/controls",
       "_model_module_version": "1.5.0",
       "_model_name": "FloatProgressModel",
       "_view_count": null,
       "_view_module": "@jupyter-widgets/controls",
       "_view_module_version": "1.5.0",
       "_view_name": "ProgressView",
       "bar_style": "success",
       "description": "",
       "description_tooltip": null,
       "layout": "IPY_MODEL_86686869651c4d768856ed9452e335f8",
       "max": 625,
       "min": 0,
       "orientation": "horizontal",
       "style": "IPY_MODEL_63ba32966e9b426881ef9c4f4daf3342",
       "value": 625
      }
     },
     "5c034cf4539a4460bbdcc9927baee48b": {
      "model_module": "@jupyter-widgets/base",
      "model_module_version": "1.2.0",
      "model_name": "LayoutModel",
      "state": {
       "_model_module": "@jupyter-widgets/base",
       "_model_module_version": "1.2.0",
       "_model_name": "LayoutModel",
       "_view_count": null,
       "_view_module": "@jupyter-widgets/base",
       "_view_module_version": "1.2.0",
       "_view_name": "LayoutView",
       "align_content": null,
       "align_items": null,
       "align_self": null,
       "border": null,
       "bottom": null,
       "display": null,
       "flex": null,
       "flex_flow": null,
       "grid_area": null,
       "grid_auto_columns": null,
       "grid_auto_flow": null,
       "grid_auto_rows": null,
       "grid_column": null,
       "grid_gap": null,
       "grid_row": null,
       "grid_template_areas": null,
       "grid_template_columns": null,
       "grid_template_rows": null,
       "height": null,
       "justify_content": null,
       "justify_items": null,
       "left": null,
       "margin": null,
       "max_height": null,
       "max_width": null,
       "min_height": null,
       "min_width": null,
       "object_fit": null,
       "object_position": null,
       "order": null,
       "overflow": null,
       "overflow_x": null,
       "overflow_y": null,
       "padding": null,
       "right": null,
       "top": null,
       "visibility": null,
       "width": null
      }
     },
     "63ba32966e9b426881ef9c4f4daf3342": {
      "model_module": "@jupyter-widgets/controls",
      "model_module_version": "1.5.0",
      "model_name": "ProgressStyleModel",
      "state": {
       "_model_module": "@jupyter-widgets/controls",
       "_model_module_version": "1.5.0",
       "_model_name": "ProgressStyleModel",
       "_view_count": null,
       "_view_module": "@jupyter-widgets/base",
       "_view_module_version": "1.2.0",
       "_view_name": "StyleView",
       "bar_color": null,
       "description_width": ""
      }
     },
     "6473c8a50f2b454f999cb1e2702b3d81": {
      "model_module": "@jupyter-widgets/base",
      "model_module_version": "1.2.0",
      "model_name": "LayoutModel",
      "state": {
       "_model_module": "@jupyter-widgets/base",
       "_model_module_version": "1.2.0",
       "_model_name": "LayoutModel",
       "_view_count": null,
       "_view_module": "@jupyter-widgets/base",
       "_view_module_version": "1.2.0",
       "_view_name": "LayoutView",
       "align_content": null,
       "align_items": null,
       "align_self": null,
       "border": null,
       "bottom": null,
       "display": null,
       "flex": null,
       "flex_flow": null,
       "grid_area": null,
       "grid_auto_columns": null,
       "grid_auto_flow": null,
       "grid_auto_rows": null,
       "grid_column": null,
       "grid_gap": null,
       "grid_row": null,
       "grid_template_areas": null,
       "grid_template_columns": null,
       "grid_template_rows": null,
       "height": null,
       "justify_content": null,
       "justify_items": null,
       "left": null,
       "margin": null,
       "max_height": null,
       "max_width": null,
       "min_height": null,
       "min_width": null,
       "object_fit": null,
       "object_position": null,
       "order": null,
       "overflow": null,
       "overflow_x": null,
       "overflow_y": null,
       "padding": null,
       "right": null,
       "top": null,
       "visibility": null,
       "width": null
      }
     },
     "699c3d7f48d046999472b200125060bb": {
      "model_module": "@jupyter-widgets/base",
      "model_module_version": "1.2.0",
      "model_name": "LayoutModel",
      "state": {
       "_model_module": "@jupyter-widgets/base",
       "_model_module_version": "1.2.0",
       "_model_name": "LayoutModel",
       "_view_count": null,
       "_view_module": "@jupyter-widgets/base",
       "_view_module_version": "1.2.0",
       "_view_name": "LayoutView",
       "align_content": null,
       "align_items": null,
       "align_self": null,
       "border": null,
       "bottom": null,
       "display": null,
       "flex": null,
       "flex_flow": null,
       "grid_area": null,
       "grid_auto_columns": null,
       "grid_auto_flow": null,
       "grid_auto_rows": null,
       "grid_column": null,
       "grid_gap": null,
       "grid_row": null,
       "grid_template_areas": null,
       "grid_template_columns": null,
       "grid_template_rows": null,
       "height": null,
       "justify_content": null,
       "justify_items": null,
       "left": null,
       "margin": null,
       "max_height": null,
       "max_width": null,
       "min_height": null,
       "min_width": null,
       "object_fit": null,
       "object_position": null,
       "order": null,
       "overflow": null,
       "overflow_x": null,
       "overflow_y": null,
       "padding": null,
       "right": null,
       "top": null,
       "visibility": null,
       "width": null
      }
     },
     "6c7f7c3c224b400ab5a7896f54ccb9e8": {
      "model_module": "@jupyter-widgets/base",
      "model_module_version": "1.2.0",
      "model_name": "LayoutModel",
      "state": {
       "_model_module": "@jupyter-widgets/base",
       "_model_module_version": "1.2.0",
       "_model_name": "LayoutModel",
       "_view_count": null,
       "_view_module": "@jupyter-widgets/base",
       "_view_module_version": "1.2.0",
       "_view_name": "LayoutView",
       "align_content": null,
       "align_items": null,
       "align_self": null,
       "border": null,
       "bottom": null,
       "display": null,
       "flex": null,
       "flex_flow": null,
       "grid_area": null,
       "grid_auto_columns": null,
       "grid_auto_flow": null,
       "grid_auto_rows": null,
       "grid_column": null,
       "grid_gap": null,
       "grid_row": null,
       "grid_template_areas": null,
       "grid_template_columns": null,
       "grid_template_rows": null,
       "height": null,
       "justify_content": null,
       "justify_items": null,
       "left": null,
       "margin": null,
       "max_height": null,
       "max_width": null,
       "min_height": null,
       "min_width": null,
       "object_fit": null,
       "object_position": null,
       "order": null,
       "overflow": null,
       "overflow_x": null,
       "overflow_y": null,
       "padding": null,
       "right": null,
       "top": null,
       "visibility": null,
       "width": null
      }
     },
     "6eef01db500d4abd8b0df8e3f1616ebb": {
      "model_module": "@jupyter-widgets/base",
      "model_module_version": "1.2.0",
      "model_name": "LayoutModel",
      "state": {
       "_model_module": "@jupyter-widgets/base",
       "_model_module_version": "1.2.0",
       "_model_name": "LayoutModel",
       "_view_count": null,
       "_view_module": "@jupyter-widgets/base",
       "_view_module_version": "1.2.0",
       "_view_name": "LayoutView",
       "align_content": null,
       "align_items": null,
       "align_self": null,
       "border": null,
       "bottom": null,
       "display": null,
       "flex": null,
       "flex_flow": null,
       "grid_area": null,
       "grid_auto_columns": null,
       "grid_auto_flow": null,
       "grid_auto_rows": null,
       "grid_column": null,
       "grid_gap": null,
       "grid_row": null,
       "grid_template_areas": null,
       "grid_template_columns": null,
       "grid_template_rows": null,
       "height": null,
       "justify_content": null,
       "justify_items": null,
       "left": null,
       "margin": null,
       "max_height": null,
       "max_width": null,
       "min_height": null,
       "min_width": null,
       "object_fit": null,
       "object_position": null,
       "order": null,
       "overflow": null,
       "overflow_x": null,
       "overflow_y": null,
       "padding": null,
       "right": null,
       "top": null,
       "visibility": null,
       "width": null
      }
     },
     "70d36718996044f1b74387319b358cca": {
      "model_module": "@jupyter-widgets/controls",
      "model_module_version": "1.5.0",
      "model_name": "HBoxModel",
      "state": {
       "_dom_classes": [],
       "_model_module": "@jupyter-widgets/controls",
       "_model_module_version": "1.5.0",
       "_model_name": "HBoxModel",
       "_view_count": null,
       "_view_module": "@jupyter-widgets/controls",
       "_view_module_version": "1.5.0",
       "_view_name": "HBoxView",
       "box_style": "",
       "children": [
        "IPY_MODEL_b6944a52d2564fdeb5bf8ccdfed11634",
        "IPY_MODEL_0fcddbe037724800887a37cacf596795",
        "IPY_MODEL_517c121c82eb44d2ab64830291715234"
       ],
       "layout": "IPY_MODEL_2dbccd8481b24a569b5e673749ec2d00"
      }
     },
     "7287b9a5a368405e9a9f279e55b0f700": {
      "model_module": "@jupyter-widgets/base",
      "model_module_version": "1.2.0",
      "model_name": "LayoutModel",
      "state": {
       "_model_module": "@jupyter-widgets/base",
       "_model_module_version": "1.2.0",
       "_model_name": "LayoutModel",
       "_view_count": null,
       "_view_module": "@jupyter-widgets/base",
       "_view_module_version": "1.2.0",
       "_view_name": "LayoutView",
       "align_content": null,
       "align_items": null,
       "align_self": null,
       "border": null,
       "bottom": null,
       "display": null,
       "flex": null,
       "flex_flow": null,
       "grid_area": null,
       "grid_auto_columns": null,
       "grid_auto_flow": null,
       "grid_auto_rows": null,
       "grid_column": null,
       "grid_gap": null,
       "grid_row": null,
       "grid_template_areas": null,
       "grid_template_columns": null,
       "grid_template_rows": null,
       "height": null,
       "justify_content": null,
       "justify_items": null,
       "left": null,
       "margin": null,
       "max_height": null,
       "max_width": null,
       "min_height": null,
       "min_width": null,
       "object_fit": null,
       "object_position": null,
       "order": null,
       "overflow": null,
       "overflow_x": null,
       "overflow_y": null,
       "padding": null,
       "right": null,
       "top": null,
       "visibility": null,
       "width": null
      }
     },
     "74a436435c7c49e2b868bfcb07ba7234": {
      "model_module": "@jupyter-widgets/controls",
      "model_module_version": "1.5.0",
      "model_name": "HBoxModel",
      "state": {
       "_dom_classes": [],
       "_model_module": "@jupyter-widgets/controls",
       "_model_module_version": "1.5.0",
       "_model_name": "HBoxModel",
       "_view_count": null,
       "_view_module": "@jupyter-widgets/controls",
       "_view_module_version": "1.5.0",
       "_view_name": "HBoxView",
       "box_style": "",
       "children": [
        "IPY_MODEL_287df324c4994e6292116e13e252af90",
        "IPY_MODEL_09eb20d51bf74949802f52680ed48d86",
        "IPY_MODEL_d5ca234dea12482c81f26d573b9409eb"
       ],
       "layout": "IPY_MODEL_20a59667d8fa4e76b88a31e7a20d8d89"
      }
     },
     "75bbb75472aa42b088736faff38ddc16": {
      "model_module": "@jupyter-widgets/controls",
      "model_module_version": "1.5.0",
      "model_name": "HBoxModel",
      "state": {
       "_dom_classes": [],
       "_model_module": "@jupyter-widgets/controls",
       "_model_module_version": "1.5.0",
       "_model_name": "HBoxModel",
       "_view_count": null,
       "_view_module": "@jupyter-widgets/controls",
       "_view_module_version": "1.5.0",
       "_view_name": "HBoxView",
       "box_style": "",
       "children": [
        "IPY_MODEL_dc8f943a46d24603b800ff8d8f4671ad",
        "IPY_MODEL_55feb24698d449b7b238d4b88a698ef8",
        "IPY_MODEL_aa96402dcf6042f8b1f1140e1e8e5ec9"
       ],
       "layout": "IPY_MODEL_b7ccce402e5a4132910ba759f9bfb900"
      }
     },
     "7c75cc6f9c844928a861307ff14e9fbb": {
      "model_module": "@jupyter-widgets/controls",
      "model_module_version": "1.5.0",
      "model_name": "HTMLModel",
      "state": {
       "_dom_classes": [],
       "_model_module": "@jupyter-widgets/controls",
       "_model_module_version": "1.5.0",
       "_model_name": "HTMLModel",
       "_view_count": null,
       "_view_module": "@jupyter-widgets/controls",
       "_view_module_version": "1.5.0",
       "_view_name": "HTMLView",
       "description": "",
       "description_tooltip": null,
       "layout": "IPY_MODEL_699c3d7f48d046999472b200125060bb",
       "placeholder": "​",
       "style": "IPY_MODEL_5400449695e940deb5d03ee0753b4af5",
       "value": "tokenizer_config.json: 100%"
      }
     },
     "86686869651c4d768856ed9452e335f8": {
      "model_module": "@jupyter-widgets/base",
      "model_module_version": "1.2.0",
      "model_name": "LayoutModel",
      "state": {
       "_model_module": "@jupyter-widgets/base",
       "_model_module_version": "1.2.0",
       "_model_name": "LayoutModel",
       "_view_count": null,
       "_view_module": "@jupyter-widgets/base",
       "_view_module_version": "1.2.0",
       "_view_name": "LayoutView",
       "align_content": null,
       "align_items": null,
       "align_self": null,
       "border": null,
       "bottom": null,
       "display": null,
       "flex": null,
       "flex_flow": null,
       "grid_area": null,
       "grid_auto_columns": null,
       "grid_auto_flow": null,
       "grid_auto_rows": null,
       "grid_column": null,
       "grid_gap": null,
       "grid_row": null,
       "grid_template_areas": null,
       "grid_template_columns": null,
       "grid_template_rows": null,
       "height": null,
       "justify_content": null,
       "justify_items": null,
       "left": null,
       "margin": null,
       "max_height": null,
       "max_width": null,
       "min_height": null,
       "min_width": null,
       "object_fit": null,
       "object_position": null,
       "order": null,
       "overflow": null,
       "overflow_x": null,
       "overflow_y": null,
       "padding": null,
       "right": null,
       "top": null,
       "visibility": null,
       "width": null
      }
     },
     "8cf7e3c0d0754f24a02f957cbea2f123": {
      "model_module": "@jupyter-widgets/controls",
      "model_module_version": "1.5.0",
      "model_name": "DescriptionStyleModel",
      "state": {
       "_model_module": "@jupyter-widgets/controls",
       "_model_module_version": "1.5.0",
       "_model_name": "DescriptionStyleModel",
       "_view_count": null,
       "_view_module": "@jupyter-widgets/base",
       "_view_module_version": "1.2.0",
       "_view_name": "StyleView",
       "description_width": ""
      }
     },
     "8f3112bc51ed4647b644b4f0f18632ce": {
      "model_module": "@jupyter-widgets/base",
      "model_module_version": "1.2.0",
      "model_name": "LayoutModel",
      "state": {
       "_model_module": "@jupyter-widgets/base",
       "_model_module_version": "1.2.0",
       "_model_name": "LayoutModel",
       "_view_count": null,
       "_view_module": "@jupyter-widgets/base",
       "_view_module_version": "1.2.0",
       "_view_name": "LayoutView",
       "align_content": null,
       "align_items": null,
       "align_self": null,
       "border": null,
       "bottom": null,
       "display": null,
       "flex": null,
       "flex_flow": null,
       "grid_area": null,
       "grid_auto_columns": null,
       "grid_auto_flow": null,
       "grid_auto_rows": null,
       "grid_column": null,
       "grid_gap": null,
       "grid_row": null,
       "grid_template_areas": null,
       "grid_template_columns": null,
       "grid_template_rows": null,
       "height": null,
       "justify_content": null,
       "justify_items": null,
       "left": null,
       "margin": null,
       "max_height": null,
       "max_width": null,
       "min_height": null,
       "min_width": null,
       "object_fit": null,
       "object_position": null,
       "order": null,
       "overflow": null,
       "overflow_x": null,
       "overflow_y": null,
       "padding": null,
       "right": null,
       "top": null,
       "visibility": null,
       "width": null
      }
     },
     "aa96402dcf6042f8b1f1140e1e8e5ec9": {
      "model_module": "@jupyter-widgets/controls",
      "model_module_version": "1.5.0",
      "model_name": "HTMLModel",
      "state": {
       "_dom_classes": [],
       "_model_module": "@jupyter-widgets/controls",
       "_model_module_version": "1.5.0",
       "_model_name": "HTMLModel",
       "_view_count": null,
       "_view_module": "@jupyter-widgets/controls",
       "_view_module_version": "1.5.0",
       "_view_name": "HTMLView",
       "description": "",
       "description_tooltip": null,
       "layout": "IPY_MODEL_7287b9a5a368405e9a9f279e55b0f700",
       "placeholder": "​",
       "style": "IPY_MODEL_c1b2160b54fc424193078f203e7dd000",
       "value": " 625/625 [00:00&lt;00:00, 43.9kB/s]"
      }
     },
     "af9e3d8961364c89b0d50f634b828a8f": {
      "model_module": "@jupyter-widgets/controls",
      "model_module_version": "1.5.0",
      "model_name": "ProgressStyleModel",
      "state": {
       "_model_module": "@jupyter-widgets/controls",
       "_model_module_version": "1.5.0",
       "_model_name": "ProgressStyleModel",
       "_view_count": null,
       "_view_module": "@jupyter-widgets/base",
       "_view_module_version": "1.2.0",
       "_view_name": "StyleView",
       "bar_color": null,
       "description_width": ""
      }
     },
     "b6944a52d2564fdeb5bf8ccdfed11634": {
      "model_module": "@jupyter-widgets/controls",
      "model_module_version": "1.5.0",
      "model_name": "HTMLModel",
      "state": {
       "_dom_classes": [],
       "_model_module": "@jupyter-widgets/controls",
       "_model_module_version": "1.5.0",
       "_model_name": "HTMLModel",
       "_view_count": null,
       "_view_module": "@jupyter-widgets/controls",
       "_view_module_version": "1.5.0",
       "_view_name": "HTMLView",
       "description": "",
       "description_tooltip": null,
       "layout": "IPY_MODEL_8f3112bc51ed4647b644b4f0f18632ce",
       "placeholder": "​",
       "style": "IPY_MODEL_e68ab519409947e4b0c209bf4e4c7b26",
       "value": "vocab.txt: 100%"
      }
     },
     "b7ccce402e5a4132910ba759f9bfb900": {
      "model_module": "@jupyter-widgets/base",
      "model_module_version": "1.2.0",
      "model_name": "LayoutModel",
      "state": {
       "_model_module": "@jupyter-widgets/base",
       "_model_module_version": "1.2.0",
       "_model_name": "LayoutModel",
       "_view_count": null,
       "_view_module": "@jupyter-widgets/base",
       "_view_module_version": "1.2.0",
       "_view_name": "LayoutView",
       "align_content": null,
       "align_items": null,
       "align_self": null,
       "border": null,
       "bottom": null,
       "display": null,
       "flex": null,
       "flex_flow": null,
       "grid_area": null,
       "grid_auto_columns": null,
       "grid_auto_flow": null,
       "grid_auto_rows": null,
       "grid_column": null,
       "grid_gap": null,
       "grid_row": null,
       "grid_template_areas": null,
       "grid_template_columns": null,
       "grid_template_rows": null,
       "height": null,
       "justify_content": null,
       "justify_items": null,
       "left": null,
       "margin": null,
       "max_height": null,
       "max_width": null,
       "min_height": null,
       "min_width": null,
       "object_fit": null,
       "object_position": null,
       "order": null,
       "overflow": null,
       "overflow_x": null,
       "overflow_y": null,
       "padding": null,
       "right": null,
       "top": null,
       "visibility": null,
       "width": null
      }
     },
     "c11c398c476a4cbaad4997da0f6712dc": {
      "model_module": "@jupyter-widgets/controls",
      "model_module_version": "1.5.0",
      "model_name": "ProgressStyleModel",
      "state": {
       "_model_module": "@jupyter-widgets/controls",
       "_model_module_version": "1.5.0",
       "_model_name": "ProgressStyleModel",
       "_view_count": null,
       "_view_module": "@jupyter-widgets/base",
       "_view_module_version": "1.2.0",
       "_view_name": "StyleView",
       "bar_color": null,
       "description_width": ""
      }
     },
     "c1b2160b54fc424193078f203e7dd000": {
      "model_module": "@jupyter-widgets/controls",
      "model_module_version": "1.5.0",
      "model_name": "DescriptionStyleModel",
      "state": {
       "_model_module": "@jupyter-widgets/controls",
       "_model_module_version": "1.5.0",
       "_model_name": "DescriptionStyleModel",
       "_view_count": null,
       "_view_module": "@jupyter-widgets/base",
       "_view_module_version": "1.2.0",
       "_view_name": "StyleView",
       "description_width": ""
      }
     },
     "cc76bffd636344529c55a9c07acca091": {
      "model_module": "@jupyter-widgets/controls",
      "model_module_version": "1.5.0",
      "model_name": "ProgressStyleModel",
      "state": {
       "_model_module": "@jupyter-widgets/controls",
       "_model_module_version": "1.5.0",
       "_model_name": "ProgressStyleModel",
       "_view_count": null,
       "_view_module": "@jupyter-widgets/base",
       "_view_module_version": "1.2.0",
       "_view_name": "StyleView",
       "bar_color": null,
       "description_width": ""
      }
     },
     "d5ca234dea12482c81f26d573b9409eb": {
      "model_module": "@jupyter-widgets/controls",
      "model_module_version": "1.5.0",
      "model_name": "HTMLModel",
      "state": {
       "_dom_classes": [],
       "_model_module": "@jupyter-widgets/controls",
       "_model_module_version": "1.5.0",
       "_model_name": "HTMLModel",
       "_view_count": null,
       "_view_module": "@jupyter-widgets/controls",
       "_view_module_version": "1.5.0",
       "_view_name": "HTMLView",
       "description": "",
       "description_tooltip": null,
       "layout": "IPY_MODEL_06e664542d7347eeb5276c0c63256bc7",
       "placeholder": "​",
       "style": "IPY_MODEL_500fcba8c79246f08141e6a114c41e6c",
       "value": " 1.96M/1.96M [00:00&lt;00:00, 4.82MB/s]"
      }
     },
     "dc8f943a46d24603b800ff8d8f4671ad": {
      "model_module": "@jupyter-widgets/controls",
      "model_module_version": "1.5.0",
      "model_name": "HTMLModel",
      "state": {
       "_dom_classes": [],
       "_model_module": "@jupyter-widgets/controls",
       "_model_module_version": "1.5.0",
       "_model_name": "HTMLModel",
       "_view_count": null,
       "_view_module": "@jupyter-widgets/controls",
       "_view_module_version": "1.5.0",
       "_view_name": "HTMLView",
       "description": "",
       "description_tooltip": null,
       "layout": "IPY_MODEL_6c7f7c3c224b400ab5a7896f54ccb9e8",
       "placeholder": "​",
       "style": "IPY_MODEL_36f04479e70745aa99cfcca88402387b",
       "value": "config.json: 100%"
      }
     },
     "dcc50e36ba1e406b8a81ec553272d74d": {
      "model_module": "@jupyter-widgets/controls",
      "model_module_version": "1.5.0",
      "model_name": "DescriptionStyleModel",
      "state": {
       "_model_module": "@jupyter-widgets/controls",
       "_model_module_version": "1.5.0",
       "_model_name": "DescriptionStyleModel",
       "_view_count": null,
       "_view_module": "@jupyter-widgets/base",
       "_view_module_version": "1.2.0",
       "_view_name": "StyleView",
       "description_width": ""
      }
     },
     "df5201ea6c714cec8499193ac217c5ac": {
      "model_module": "@jupyter-widgets/base",
      "model_module_version": "1.2.0",
      "model_name": "LayoutModel",
      "state": {
       "_model_module": "@jupyter-widgets/base",
       "_model_module_version": "1.2.0",
       "_model_name": "LayoutModel",
       "_view_count": null,
       "_view_module": "@jupyter-widgets/base",
       "_view_module_version": "1.2.0",
       "_view_name": "LayoutView",
       "align_content": null,
       "align_items": null,
       "align_self": null,
       "border": null,
       "bottom": null,
       "display": null,
       "flex": null,
       "flex_flow": null,
       "grid_area": null,
       "grid_auto_columns": null,
       "grid_auto_flow": null,
       "grid_auto_rows": null,
       "grid_column": null,
       "grid_gap": null,
       "grid_row": null,
       "grid_template_areas": null,
       "grid_template_columns": null,
       "grid_template_rows": null,
       "height": null,
       "justify_content": null,
       "justify_items": null,
       "left": null,
       "margin": null,
       "max_height": null,
       "max_width": null,
       "min_height": null,
       "min_width": null,
       "object_fit": null,
       "object_position": null,
       "order": null,
       "overflow": null,
       "overflow_x": null,
       "overflow_y": null,
       "padding": null,
       "right": null,
       "top": null,
       "visibility": null,
       "width": null
      }
     },
     "e4abf5e5758741dd9f6fe41affebead6": {
      "model_module": "@jupyter-widgets/controls",
      "model_module_version": "1.5.0",
      "model_name": "DescriptionStyleModel",
      "state": {
       "_model_module": "@jupyter-widgets/controls",
       "_model_module_version": "1.5.0",
       "_model_name": "DescriptionStyleModel",
       "_view_count": null,
       "_view_module": "@jupyter-widgets/base",
       "_view_module_version": "1.2.0",
       "_view_name": "StyleView",
       "description_width": ""
      }
     },
     "e68ab519409947e4b0c209bf4e4c7b26": {
      "model_module": "@jupyter-widgets/controls",
      "model_module_version": "1.5.0",
      "model_name": "DescriptionStyleModel",
      "state": {
       "_model_module": "@jupyter-widgets/controls",
       "_model_module_version": "1.5.0",
       "_model_name": "DescriptionStyleModel",
       "_view_count": null,
       "_view_module": "@jupyter-widgets/base",
       "_view_module_version": "1.2.0",
       "_view_name": "StyleView",
       "description_width": ""
      }
     },
     "f9482d406acf4127a86d60c46480f654": {
      "model_module": "@jupyter-widgets/base",
      "model_module_version": "1.2.0",
      "model_name": "LayoutModel",
      "state": {
       "_model_module": "@jupyter-widgets/base",
       "_model_module_version": "1.2.0",
       "_model_name": "LayoutModel",
       "_view_count": null,
       "_view_module": "@jupyter-widgets/base",
       "_view_module_version": "1.2.0",
       "_view_name": "LayoutView",
       "align_content": null,
       "align_items": null,
       "align_self": null,
       "border": null,
       "bottom": null,
       "display": null,
       "flex": null,
       "flex_flow": null,
       "grid_area": null,
       "grid_auto_columns": null,
       "grid_auto_flow": null,
       "grid_auto_rows": null,
       "grid_column": null,
       "grid_gap": null,
       "grid_row": null,
       "grid_template_areas": null,
       "grid_template_columns": null,
       "grid_template_rows": null,
       "height": null,
       "justify_content": null,
       "justify_items": null,
       "left": null,
       "margin": null,
       "max_height": null,
       "max_width": null,
       "min_height": null,
       "min_width": null,
       "object_fit": null,
       "object_position": null,
       "order": null,
       "overflow": null,
       "overflow_x": null,
       "overflow_y": null,
       "padding": null,
       "right": null,
       "top": null,
       "visibility": null,
       "width": null
      }
     },
     "ff630445f432462a9d1821ec38f19ced": {
      "model_module": "@jupyter-widgets/controls",
      "model_module_version": "1.5.0",
      "model_name": "HTMLModel",
      "state": {
       "_dom_classes": [],
       "_model_module": "@jupyter-widgets/controls",
       "_model_module_version": "1.5.0",
       "_model_name": "HTMLModel",
       "_view_count": null,
       "_view_module": "@jupyter-widgets/controls",
       "_view_module_version": "1.5.0",
       "_view_name": "HTMLView",
       "description": "",
       "description_tooltip": null,
       "layout": "IPY_MODEL_df5201ea6c714cec8499193ac217c5ac",
       "placeholder": "​",
       "style": "IPY_MODEL_dcc50e36ba1e406b8a81ec553272d74d",
       "value": " 49.0/49.0 [00:00&lt;00:00, 3.16kB/s]"
      }
     }
    },
    "version_major": 2,
    "version_minor": 0
   }
  }
 },
 "nbformat": 4,
 "nbformat_minor": 5
}
